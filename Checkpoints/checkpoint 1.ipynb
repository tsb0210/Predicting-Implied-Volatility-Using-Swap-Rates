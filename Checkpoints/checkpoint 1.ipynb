{
 "cells": [
  {
   "cell_type": "markdown",
   "id": "df45bb90-7791-4f77-a360-0878967527af",
   "metadata": {
    "id": "df45bb90-7791-4f77-a360-0878967527af"
   },
   "source": [
    "# data for 1y swaps"
   ]
  },
  {
   "cell_type": "code",
   "execution_count": 217,
   "id": "174036fa-f01b-4452-b250-f5c4ca8b9661",
   "metadata": {
    "colab": {
     "base_uri": "https://localhost:8080/",
     "height": 407
    },
    "executionInfo": {
     "elapsed": 646,
     "status": "error",
     "timestamp": 1683067897487,
     "user": {
      "displayName": "Louise Henningsson",
      "userId": "18432336488090605662"
     },
     "user_tz": 240
    },
    "id": "174036fa-f01b-4452-b250-f5c4ca8b9661",
    "outputId": "a4fb12bf-f924-41fb-e796-b37ed1f0e25c"
   },
   "outputs": [
    {
     "data": {
      "text/html": [
       "<div>\n",
       "<style scoped>\n",
       "    .dataframe tbody tr th:only-of-type {\n",
       "        vertical-align: middle;\n",
       "    }\n",
       "\n",
       "    .dataframe tbody tr th {\n",
       "        vertical-align: top;\n",
       "    }\n",
       "\n",
       "    .dataframe thead th {\n",
       "        text-align: right;\n",
       "    }\n",
       "</style>\n",
       "<table border=\"1\" class=\"dataframe\">\n",
       "  <thead>\n",
       "    <tr style=\"text-align: right;\">\n",
       "      <th></th>\n",
       "      <th>1m Implied Vol</th>\n",
       "      <th>3m Implied Vol</th>\n",
       "      <th>1 yr Swap rate</th>\n",
       "    </tr>\n",
       "    <tr>\n",
       "      <th>Date</th>\n",
       "      <th></th>\n",
       "      <th></th>\n",
       "      <th></th>\n",
       "    </tr>\n",
       "  </thead>\n",
       "  <tbody>\n",
       "    <tr>\n",
       "      <th>2018-04-23</th>\n",
       "      <td>0.144928</td>\n",
       "      <td>0.169911</td>\n",
       "      <td>2.0960</td>\n",
       "    </tr>\n",
       "    <tr>\n",
       "      <th>2018-04-24</th>\n",
       "      <td>0.140990</td>\n",
       "      <td>0.164891</td>\n",
       "      <td>2.0938</td>\n",
       "    </tr>\n",
       "    <tr>\n",
       "      <th>2018-04-25</th>\n",
       "      <td>0.141131</td>\n",
       "      <td>0.166400</td>\n",
       "      <td>2.1031</td>\n",
       "    </tr>\n",
       "    <tr>\n",
       "      <th>2018-04-26</th>\n",
       "      <td>0.130362</td>\n",
       "      <td>0.159992</td>\n",
       "      <td>2.1070</td>\n",
       "    </tr>\n",
       "    <tr>\n",
       "      <th>2018-04-27</th>\n",
       "      <td>0.124474</td>\n",
       "      <td>0.150861</td>\n",
       "      <td>2.1054</td>\n",
       "    </tr>\n",
       "    <tr>\n",
       "      <th>...</th>\n",
       "      <td>...</td>\n",
       "      <td>...</td>\n",
       "      <td>...</td>\n",
       "    </tr>\n",
       "    <tr>\n",
       "      <th>2022-12-23</th>\n",
       "      <td>0.203641</td>\n",
       "      <td>0.229629</td>\n",
       "      <td>4.8410</td>\n",
       "    </tr>\n",
       "    <tr>\n",
       "      <th>2022-12-27</th>\n",
       "      <td>0.211042</td>\n",
       "      <td>0.230953</td>\n",
       "      <td>4.8901</td>\n",
       "    </tr>\n",
       "    <tr>\n",
       "      <th>2022-12-28</th>\n",
       "      <td>0.208031</td>\n",
       "      <td>0.232956</td>\n",
       "      <td>4.8695</td>\n",
       "    </tr>\n",
       "    <tr>\n",
       "      <th>2022-12-29</th>\n",
       "      <td>0.209882</td>\n",
       "      <td>0.227612</td>\n",
       "      <td>4.8741</td>\n",
       "    </tr>\n",
       "    <tr>\n",
       "      <th>2022-12-30</th>\n",
       "      <td>0.208813</td>\n",
       "      <td>0.233495</td>\n",
       "      <td>4.9060</td>\n",
       "    </tr>\n",
       "  </tbody>\n",
       "</table>\n",
       "<p>1208 rows × 3 columns</p>\n",
       "</div>"
      ],
      "text/plain": [
       "            1m Implied Vol  3m Implied Vol  1 yr Swap rate\n",
       "Date                                                      \n",
       "2018-04-23        0.144928        0.169911          2.0960\n",
       "2018-04-24        0.140990        0.164891          2.0938\n",
       "2018-04-25        0.141131        0.166400          2.1031\n",
       "2018-04-26        0.130362        0.159992          2.1070\n",
       "2018-04-27        0.124474        0.150861          2.1054\n",
       "...                    ...             ...             ...\n",
       "2022-12-23        0.203641        0.229629          4.8410\n",
       "2022-12-27        0.211042        0.230953          4.8901\n",
       "2022-12-28        0.208031        0.232956          4.8695\n",
       "2022-12-29        0.209882        0.227612          4.8741\n",
       "2022-12-30        0.208813        0.233495          4.9060\n",
       "\n",
       "[1208 rows x 3 columns]"
      ]
     },
     "execution_count": 217,
     "metadata": {},
     "output_type": "execute_result"
    }
   ],
   "source": [
    "data=pd.read_excel(\"1 yr Swap-Swaption Implied Vols.xlsx\")\n",
    "data.set_index('Date', inplace=True)\n",
    "data=data.reindex(index=data.index[::-1])\n",
    "data=data.fillna(method=\"ffill\")\n",
    "\n",
    "data"
   ]
  },
  {
   "cell_type": "markdown",
   "id": "f028ece7-df24-44f2-98e1-94e137f6b3b6",
   "metadata": {
    "id": "f028ece7-df24-44f2-98e1-94e137f6b3b6"
   },
   "source": [
    "## using moving average 1yr"
   ]
  },
  {
   "cell_type": "code",
   "execution_count": 218,
   "id": "efe9198d-0824-4904-a9ff-90dc549ceb49",
   "metadata": {
    "executionInfo": {
     "elapsed": 11,
     "status": "aborted",
     "timestamp": 1683067897488,
     "user": {
      "displayName": "Louise Henningsson",
      "userId": "18432336488090605662"
     },
     "user_tz": 240
    },
    "id": "efe9198d-0824-4904-a9ff-90dc549ceb49"
   },
   "outputs": [
    {
     "data": {
      "image/png": "[encoded data removed]",
      "text/plain": [
       "<Figure size 640x480 with 1 Axes>"
      ]
     },
     "metadata": {},
     "output_type": "display_data"
    },
    {
     "name": "stdout",
     "output_type": "stream",
     "text": [
      "Final Cumulative Return: 4.7902168843484665\n"
     ]
    }
   ],
   "source": [
    "#1m 1y\n",
    "import pandas as pd\n",
    "import numpy as np\n",
    "import matplotlib.pyplot as plt\n",
    "from datetime import datetime\n",
    "import pandas_datareader.data as web\n",
    "\n",
    "# extract 5-year par swap rates from FRED\n",
    "\n",
    "#par_swap_rates = web.DataReader(['DGS30'], 'fred', start_date, end_date)\n",
    "par_swap_rates=data[\"1 yr Swap rate\"]\n",
    "\n",
    "# drop rows with missing data\n",
    "\n",
    "# compute daily log returns of par swap rates\n",
    "log_returns = np.log(par_swap_rates) - np.log(par_swap_rates.shift(1))\n",
    "\n",
    "# compute annualized volatilities of log returns\n",
    "#volatilities = log_returns.rolling(window=252).std() * np.sqrt(252)\n",
    "volatilities = data[\"1m Implied Vol\"]\n",
    "\n",
    "\n",
    "# compute 50-day and 200-day moving averages\n",
    "ma_50 = par_swap_rates.rolling(window=50).mean()\n",
    "ma_200 = par_swap_rates.rolling(window=200).mean()\n",
    "\n",
    "# compute 50-day and 200-day moving average volatilities\n",
    "ma_vol_50 = volatilities.rolling(window=50).mean()\n",
    "ma_vol_200 = volatilities.rolling(window=200).mean()\n",
    "\n",
    "# fill NaN values in volatilities with 0\n",
    "\n",
    "# define trading signals based on volatilities, moving averages, and stop loss\n",
    "signals = np.where((par_swap_rates > ma_50) &\n",
    "                   (ma_50 > ma_200) &\n",
    "                   (volatilities > ma_vol_50) &\n",
    "                   (volatilities > ma_vol_200) &\n",
    "                   (par_swap_rates.shift(1) > ma_50.shift(1)) &\n",
    "                   (par_swap_rates.shift(1) > ma_200.shift(1)) &\n",
    "                   (volatilities.shift(1) > ma_vol_50.shift(1)) &\n",
    "                   (volatilities.shift(1) > ma_vol_200.shift(1)) &\n",
    "                   (par_swap_rates - par_swap_rates.shift(1) > -0.01), 1,\n",
    "                   np.where((par_swap_rates < ma_50) &\n",
    "                            (ma_50 < ma_200) &\n",
    "                            (volatilities < ma_vol_50) &\n",
    "                            (volatilities < ma_vol_200) &\n",
    "                            (par_swap_rates.shift(1) < ma_50.shift(1)) &\n",
    "                            (par_swap_rates.shift(1) < ma_200.shift(1)) &\n",
    "                            (volatilities.shift(1) < ma_vol_50.shift(1)) &\n",
    "                            (volatilities.shift(1) < ma_vol_200.shift(1)) &\n",
    "                            (par_swap_rates - par_swap_rates.shift(1) < 0.01), -1, 0))\n",
    "\n",
    "# compute daily returns of trading strategy\n",
    "daily_returns_1m_1y = signals * log_returns\n",
    "\n",
    "# fill NaN values in daily returns with 0\n",
    "\n",
    "# compute cumulative returns of trading strategy\n",
    "cum_returns_1m_1y = np.exp(daily_returns_1m_1y.cumsum())\n",
    "\n",
    "# plot cumulative returns of trading strategy\n",
    "plt.plot(cum_returns_1m_1y)\n",
    "plt.title('Cumulative Returns')\n",
    "plt.xlabel('Date')\n",
    "plt.ylabel('Cumulative Returns')\n",
    "plt.show()\n",
    "\n",
    "# print final cumulative return\n",
    "print('Final Cumulative Return:', cum_returns_1m_1y.iloc[-1])\n"
   ]
  },
  {
   "cell_type": "code",
   "execution_count": null,
   "id": "f0a3f423",
   "metadata": {},
   "outputs": [],
   "source": []
  },
  {
   "cell_type": "code",
   "execution_count": 219,
   "id": "0385a261",
   "metadata": {},
   "outputs": [],
   "source": [
    "daily_returns_3m_1y.to_excel(\"test.xlsx\")"
   ]
  },
  {
   "cell_type": "code",
   "execution_count": 220,
   "id": "5a9cd300-0451-45b2-8d4b-50ed257f64fd",
   "metadata": {
    "executionInfo": {
     "elapsed": 12,
     "status": "aborted",
     "timestamp": 1683067897489,
     "user": {
      "displayName": "Louise Henningsson",
      "userId": "18432336488090605662"
     },
     "user_tz": 240
    },
    "id": "5a9cd300-0451-45b2-8d4b-50ed257f64fd",
    "scrolled": true
   },
   "outputs": [
    {
     "data": {
      "image/png": "[encoded data removed]",
      "text/plain": [
       "<Figure size 640x480 with 1 Axes>"
      ]
     },
     "metadata": {},
     "output_type": "display_data"
    },
    {
     "name": "stdout",
     "output_type": "stream",
     "text": [
      "Final Cumulative Return: 2.4375899623032558\n"
     ]
    }
   ],
   "source": [
    "#3m1y\n",
    "\n",
    "import pandas as pd\n",
    "import numpy as np\n",
    "import matplotlib.pyplot as plt\n",
    "from datetime import datetime\n",
    "import pandas_datareader.data as web\n",
    "\n",
    "# extract 5-year par swap rates from FRED\n",
    "\n",
    "#par_swap_rates = web.DataReader(['DGS30'], 'fred', start_date, end_date)\n",
    "par_swap_rates=data[\"1 yr Swap rate\"]\n",
    "\n",
    "# drop rows with missing data\n",
    "\n",
    "# compute daily log returns of par swap rates\n",
    "log_returns = np.log(par_swap_rates) - np.log(par_swap_rates.shift(1))\n",
    "\n",
    "# compute annualized volatilities of log returns\n",
    "#volatilities = log_returns.rolling(window=252).std() * np.sqrt(252)\n",
    "volatilities = data[\"3m Implied Vol\"]\n",
    "\n",
    "\n",
    "# compute 50-day and 200-day moving averages\n",
    "ma_50 = par_swap_rates.rolling(window=50).mean()\n",
    "ma_200 = par_swap_rates.rolling(window=200).mean()\n",
    "\n",
    "# compute 50-day and 200-day moving average volatilities\n",
    "ma_vol_50 = volatilities.rolling(window=50).mean()\n",
    "ma_vol_200 = volatilities.rolling(window=200).mean()\n",
    "\n",
    "# fill NaN values in volatilities with 0\n",
    "\n",
    "# define trading signals based on volatilities, moving averages, and stop loss\n",
    "signals = np.where((par_swap_rates > ma_50) &\n",
    "                   (ma_50 > ma_200) &\n",
    "                   (volatilities > ma_vol_50) &\n",
    "                   (volatilities > ma_vol_200) &\n",
    "                   (par_swap_rates.shift(1) > ma_50.shift(1)) &\n",
    "                   (par_swap_rates.shift(1) > ma_200.shift(1)) &\n",
    "                   (volatilities.shift(1) > ma_vol_50.shift(1)) &\n",
    "                   (volatilities.shift(1) > ma_vol_200.shift(1)) &\n",
    "                   (par_swap_rates - par_swap_rates.shift(1) > -0.01), 1,\n",
    "                   np.where((par_swap_rates < ma_50) &\n",
    "                            (ma_50 < ma_200) &\n",
    "                            (volatilities < ma_vol_50) &\n",
    "                            (volatilities < ma_vol_200) &\n",
    "                            (par_swap_rates.shift(1) < ma_50.shift(1)) &\n",
    "                            (par_swap_rates.shift(1) < ma_200.shift(1)) &\n",
    "                            (volatilities.shift(1) < ma_vol_50.shift(1)) &\n",
    "                            (volatilities.shift(1) < ma_vol_200.shift(1)) &\n",
    "                            (par_swap_rates - par_swap_rates.shift(1) < 0.01), -1, 0))\n",
    "\n",
    "# compute daily returns of trading strategy\n",
    "daily_returns_3m_1y = signals * log_returns\n",
    "\n",
    "# fill NaN values in daily returns with 0\n",
    "\n",
    "# compute cumulative returns of trading strategy\n",
    "cum_returns_3m_1y = np.exp(daily_returns_3m_1y.cumsum())\n",
    "\n",
    "#plot cumulative returns of trading strategy\n",
    "plt.plot(cum_returns_3m_1y)\n",
    "plt.title('Cumulative Returns')\n",
    "plt.xlabel('Date')\n",
    "plt.ylabel('Cumulative Returns')\n",
    "plt.show()\n",
    "\n",
    "# print final cumulative return\n",
    "print('Final Cumulative Return:', cum_returns_3m_1y.iloc[-1])\n"
   ]
  },
  {
   "cell_type": "code",
   "execution_count": 221,
   "id": "cccb4251",
   "metadata": {
    "id": "cccb4251",
    "outputId": "b54bc83d-8845-4e0c-ff37-df0ac89a0045"
   },
   "outputs": [],
   "source": [
    "daily_returns_3m_1y.to_excel(\"test.xlsx\")"
   ]
  },
  {
   "cell_type": "markdown",
   "id": "d23fa171",
   "metadata": {
    "id": "d23fa171"
   },
   "source": [
    "# 2yr swap"
   ]
  },
  {
   "cell_type": "code",
   "execution_count": 222,
   "id": "2285160c",
   "metadata": {
    "id": "2285160c",
    "outputId": "18988a40-6d46-4f69-baed-42108caa6739"
   },
   "outputs": [
    {
     "data": {
      "text/html": [
       "<div>\n",
       "<style scoped>\n",
       "    .dataframe tbody tr th:only-of-type {\n",
       "        vertical-align: middle;\n",
       "    }\n",
       "\n",
       "    .dataframe tbody tr th {\n",
       "        vertical-align: top;\n",
       "    }\n",
       "\n",
       "    .dataframe thead th {\n",
       "        text-align: right;\n",
       "    }\n",
       "</style>\n",
       "<table border=\"1\" class=\"dataframe\">\n",
       "  <thead>\n",
       "    <tr style=\"text-align: right;\">\n",
       "      <th></th>\n",
       "      <th>1m Implied Vol</th>\n",
       "      <th>3m Implied Vol</th>\n",
       "      <th>2 Year Swap Rates</th>\n",
       "    </tr>\n",
       "    <tr>\n",
       "      <th>Date</th>\n",
       "      <th></th>\n",
       "      <th></th>\n",
       "      <th></th>\n",
       "    </tr>\n",
       "  </thead>\n",
       "  <tbody>\n",
       "    <tr>\n",
       "      <th>2018-04-24</th>\n",
       "      <td>0.340398</td>\n",
       "      <td>0.381207</td>\n",
       "      <td>2.3366</td>\n",
       "    </tr>\n",
       "    <tr>\n",
       "      <th>2018-04-25</th>\n",
       "      <td>0.334828</td>\n",
       "      <td>0.385543</td>\n",
       "      <td>2.3411</td>\n",
       "    </tr>\n",
       "    <tr>\n",
       "      <th>2018-04-26</th>\n",
       "      <td>0.313995</td>\n",
       "      <td>0.370068</td>\n",
       "      <td>2.3383</td>\n",
       "    </tr>\n",
       "    <tr>\n",
       "      <th>2018-04-27</th>\n",
       "      <td>0.294942</td>\n",
       "      <td>0.364437</td>\n",
       "      <td>2.3380</td>\n",
       "    </tr>\n",
       "    <tr>\n",
       "      <th>2018-04-30</th>\n",
       "      <td>0.294993</td>\n",
       "      <td>0.343473</td>\n",
       "      <td>2.3440</td>\n",
       "    </tr>\n",
       "    <tr>\n",
       "      <th>...</th>\n",
       "      <td>...</td>\n",
       "      <td>...</td>\n",
       "      <td>...</td>\n",
       "    </tr>\n",
       "    <tr>\n",
       "      <th>2022-12-23</th>\n",
       "      <td>0.510203</td>\n",
       "      <td>0.591321</td>\n",
       "      <td>4.3561</td>\n",
       "    </tr>\n",
       "    <tr>\n",
       "      <th>2022-12-27</th>\n",
       "      <td>0.556761</td>\n",
       "      <td>0.598744</td>\n",
       "      <td>4.4103</td>\n",
       "    </tr>\n",
       "    <tr>\n",
       "      <th>2022-12-28</th>\n",
       "      <td>0.534786</td>\n",
       "      <td>0.601169</td>\n",
       "      <td>4.4145</td>\n",
       "    </tr>\n",
       "    <tr>\n",
       "      <th>2022-12-29</th>\n",
       "      <td>0.535681</td>\n",
       "      <td>0.596111</td>\n",
       "      <td>4.4075</td>\n",
       "    </tr>\n",
       "    <tr>\n",
       "      <th>2022-12-30</th>\n",
       "      <td>0.536232</td>\n",
       "      <td>0.599912</td>\n",
       "      <td>4.4500</td>\n",
       "    </tr>\n",
       "  </tbody>\n",
       "</table>\n",
       "<p>1078 rows × 3 columns</p>\n",
       "</div>"
      ],
      "text/plain": [
       "            1m Implied Vol  3m Implied Vol  2 Year Swap Rates\n",
       "Date                                                         \n",
       "2018-04-24        0.340398        0.381207             2.3366\n",
       "2018-04-25        0.334828        0.385543             2.3411\n",
       "2018-04-26        0.313995        0.370068             2.3383\n",
       "2018-04-27        0.294942        0.364437             2.3380\n",
       "2018-04-30        0.294993        0.343473             2.3440\n",
       "...                    ...             ...                ...\n",
       "2022-12-23        0.510203        0.591321             4.3561\n",
       "2022-12-27        0.556761        0.598744             4.4103\n",
       "2022-12-28        0.534786        0.601169             4.4145\n",
       "2022-12-29        0.535681        0.596111             4.4075\n",
       "2022-12-30        0.536232        0.599912             4.4500\n",
       "\n",
       "[1078 rows x 3 columns]"
      ]
     },
     "execution_count": 222,
     "metadata": {},
     "output_type": "execute_result"
    }
   ],
   "source": [
    "data=pd.read_excel(\"2 year Implied Vols.xlsx\")\n",
    "data.set_index('Date', inplace=True)\n",
    "\n",
    "data=data.ffill(axis = 1)\n",
    "data=data.reindex(index=data.index[::-1])\n",
    "\n",
    "#data[\"2yr Swap\"]\n",
    "#data[\"1m Implied Vol\"]\n",
    "data=data.dropna()\n",
    "data"
   ]
  },
  {
   "cell_type": "markdown",
   "id": "871cd368",
   "metadata": {
    "id": "871cd368"
   },
   "source": [
    "## Using the moving average 2yr"
   ]
  },
  {
   "cell_type": "code",
   "execution_count": 223,
   "id": "c98e79b3",
   "metadata": {
    "id": "c98e79b3",
    "outputId": "2a5afbb1-33d6-4c67-a76f-6a00065b3ffd"
   },
   "outputs": [
    {
     "data": {
      "image/png": "[encoded data removed]",
      "text/plain": [
       "<Figure size 640x480 with 1 Axes>"
      ]
     },
     "metadata": {},
     "output_type": "display_data"
    },
    {
     "name": "stdout",
     "output_type": "stream",
     "text": [
      "Final Cumulative Return: 1.13179464904834\n"
     ]
    }
   ],
   "source": [
    "#1m2y\n",
    "import pandas as pd\n",
    "import numpy as np\n",
    "import matplotlib.pyplot as plt\n",
    "from datetime import datetime\n",
    "import pandas_datareader.data as web\n",
    "\n",
    "# extract 5-year par swap rates from FRED\n",
    "\n",
    "#par_swap_rates = web.DataReader(['DGS30'], 'fred', start_date, end_date)\n",
    "par_swap_rates=data[\"2 Year Swap Rates\"]\n",
    "\n",
    "# drop rows with missing data\n",
    "\n",
    "# compute daily log returns of par swap rates\n",
    "log_returns = np.log(par_swap_rates) - np.log(par_swap_rates.shift(1))\n",
    "\n",
    "# compute annualized volatilities of log returns\n",
    "#volatilities = log_returns.rolling(window=252).std() * np.sqrt(252)\n",
    "volatilities = data[\"1m Implied Vol\"]\n",
    "\n",
    "# compute 50-day and 200-day moving averages\n",
    "ma_50 = par_swap_rates.rolling(window=50).mean()\n",
    "ma_200 = par_swap_rates.rolling(window=200).mean()\n",
    "\n",
    "# compute 50-day and 200-day moving average volatilities\n",
    "ma_vol_50 = volatilities.rolling(window=50).mean()\n",
    "ma_vol_200 = volatilities.rolling(window=200).mean()\n",
    "\n",
    "# fill NaN values in volatilities with 0\n",
    "\n",
    "# define trading signals based on volatilities, moving averages, and stop loss\n",
    "signals = np.where((par_swap_rates > ma_50) &\n",
    "                   (ma_50 > ma_200) &\n",
    "                   (volatilities > ma_vol_50) &\n",
    "                   (volatilities > ma_vol_200) &\n",
    "                   (par_swap_rates.shift(1) > ma_50.shift(1)) &\n",
    "                   (par_swap_rates.shift(1) > ma_200.shift(1)) &\n",
    "                   (volatilities.shift(1) > ma_vol_50.shift(1)) &\n",
    "                   (volatilities.shift(1) > ma_vol_200.shift(1)) &\n",
    "                   (par_swap_rates - par_swap_rates.shift(1) > -0.01), 1,\n",
    "                   np.where((par_swap_rates < ma_50) &\n",
    "                            (ma_50 < ma_200) &\n",
    "                            (volatilities < ma_vol_50) &\n",
    "                            (volatilities < ma_vol_200) &\n",
    "                            (par_swap_rates.shift(1) < ma_50.shift(1)) &\n",
    "                            (par_swap_rates.shift(1) < ma_200.shift(1)) &\n",
    "                            (volatilities.shift(1) < ma_vol_50.shift(1)) &\n",
    "                            (volatilities.shift(1) < ma_vol_200.shift(1)) &\n",
    "                            (par_swap_rates - par_swap_rates.shift(1) < 0.01), -1, 0))\n",
    "\n",
    "# compute daily returns of trading strategy\n",
    "daily_returns_1m_2y = signals * log_returns\n",
    "\n",
    "# fill NaN values in daily returns with 0\n",
    "\n",
    "# compute cumulative returns of trading strategy\n",
    "cum_returns_1m_2y = np.exp(daily_returns_1m_2y.cumsum())\n",
    "\n",
    "# plot cumulative returns of trading strategy\n",
    "plt.plot(cum_returns_1m_2y)\n",
    "plt.title('Cumulative Returns')\n",
    "plt.xlabel('Date')\n",
    "plt.ylabel('Cumulative Returns')\n",
    "plt.show()\n",
    "\n",
    "# print final cumulative return\n",
    "print('Final Cumulative Return:', cum_returns_1m_2y.iloc[-1])"
   ]
  },
  {
   "cell_type": "code",
   "execution_count": 224,
   "id": "e1ef3b73",
   "metadata": {
    "id": "e1ef3b73",
    "outputId": "1ab68c07-5538-4708-c236-447cb00c2d84"
   },
   "outputs": [
    {
     "data": {
      "image/png": "[encoded data removed]",
      "text/plain": [
       "<Figure size 640x480 with 1 Axes>"
      ]
     },
     "metadata": {},
     "output_type": "display_data"
    },
    {
     "name": "stdout",
     "output_type": "stream",
     "text": [
      "Final Cumulative Return: 1.1341310654309862\n"
     ]
    }
   ],
   "source": [
    "#3m2y\n",
    "import pandas as pd\n",
    "import numpy as np\n",
    "import matplotlib.pyplot as plt\n",
    "from datetime import datetime\n",
    "import pandas_datareader.data as web\n",
    "\n",
    "# extract 5-year par swap rates from FRED\n",
    "start_date = datetime(2018, 4, 23)\n",
    "end_date = datetime(2022, 12, 30)\n",
    "#par_swap_rates = web.DataReader(['DGS30'], 'fred', start_date, end_date)\n",
    "par_swap_rates=data[\"2 Year Swap Rates\"]\n",
    "\n",
    "# drop rows with missing data\n",
    "par_swap_rates.dropna(inplace=True)\n",
    "\n",
    "# compute daily log returns of par swap rates\n",
    "log_returns = np.log(par_swap_rates) - np.log(par_swap_rates.shift(1))\n",
    "\n",
    "# compute annualized volatilities of log returns\n",
    "#volatilities = log_returns.rolling(window=252).std() * np.sqrt(252)\n",
    "volatilities = data[\"3m Implied Vol\"]\n",
    "\n",
    "\n",
    "# compute 50-day and 200-day moving averages\n",
    "ma_50 = par_swap_rates.rolling(window=50).mean()\n",
    "ma_200 = par_swap_rates.rolling(window=200).mean()\n",
    "\n",
    "# compute 50-day and 200-day moving average volatilities\n",
    "ma_vol_50 = volatilities.rolling(window=50).mean()\n",
    "ma_vol_200 = volatilities.rolling(window=200).mean()\n",
    "\n",
    "# fill NaN values in volatilities with 0\n",
    "volatilities.fillna(0, inplace=True)\n",
    "\n",
    "# define trading signals based on volatilities, moving averages, and stop loss\n",
    "signals = np.where((par_swap_rates > ma_50) &\n",
    "                   (ma_50 > ma_200) &\n",
    "                   (volatilities > ma_vol_50) &\n",
    "                   (volatilities > ma_vol_200) &\n",
    "                   (par_swap_rates.shift(1) > ma_50.shift(1)) &\n",
    "                   (par_swap_rates.shift(1) > ma_200.shift(1)) &\n",
    "                   (volatilities.shift(1) > ma_vol_50.shift(1)) &\n",
    "                   (volatilities.shift(1) > ma_vol_200.shift(1)) &\n",
    "                   (par_swap_rates - par_swap_rates.shift(1) > -0.01), 1,\n",
    "                   np.where((par_swap_rates < ma_50) &\n",
    "                            (ma_50 < ma_200) &\n",
    "                            (volatilities < ma_vol_50) &\n",
    "                            (volatilities < ma_vol_200) &\n",
    "                            (par_swap_rates.shift(1) < ma_50.shift(1)) &\n",
    "                            (par_swap_rates.shift(1) < ma_200.shift(1)) &\n",
    "                            (volatilities.shift(1) < ma_vol_50.shift(1)) &\n",
    "                            (volatilities.shift(1) < ma_vol_200.shift(1)) &\n",
    "                            (par_swap_rates - par_swap_rates.shift(1) < 0.01), -1, 0))\n",
    "\n",
    "# compute daily returns of trading strategy\n",
    "daily_returns_3m_2y = signals * log_returns\n",
    "\n",
    "# fill NaN values in daily returns with 0\n",
    "daily_returns_3m_2y.fillna(0, inplace=True)\n",
    "\n",
    "# compute cumulative returns of trading strategy\n",
    "cum_returns_3m_2y = np.exp(daily_returns_3m_2y.cumsum())\n",
    "\n",
    "# plot cumulative returns of trading strategy\n",
    "plt.plot(cum_returns_3m_2y)\n",
    "plt.title('Cumulative Returns')\n",
    "plt.xlabel('Date')\n",
    "plt.ylabel('Cumulative Returns')\n",
    "plt.show()\n",
    "\n",
    "# print final cumulative return\n",
    "print('Final Cumulative Return:', cum_returns_3m_2y.iloc[-1])\n"
   ]
  },
  {
   "cell_type": "markdown",
   "id": "a99dbebd",
   "metadata": {
    "id": "a99dbebd"
   },
   "source": [
    "# 5yr swap "
   ]
  },
  {
   "cell_type": "code",
   "execution_count": 239,
   "id": "edaa4079",
   "metadata": {
    "id": "edaa4079",
    "outputId": "4148680f-4d2f-4b5c-fd00-4e0e3af45a7a",
    "scrolled": true
   },
   "outputs": [
    {
     "name": "stdout",
     "output_type": "stream",
     "text": [
      "           Date  1m Implied Vol  3m Implied Vol  5 Year Swap Rates\n",
      "0    2022-12-30        1.571649        1.714200             3.7420\n",
      "1    2022-12-29        1.589110        1.713599             3.7013\n",
      "2    2022-12-28        1.578554        1.702463             3.7295\n",
      "3    2022-12-27        1.659759        1.709536             3.6891\n",
      "4    2022-12-23        1.529695        1.692305             3.6290\n",
      "...         ...             ...             ...                ...\n",
      "1174 2018-04-26        1.020927        1.056979             2.5250\n",
      "1175 2018-04-25        1.070361        1.102958             2.5390\n",
      "1176 2018-04-24        1.033601        1.073848             2.5640\n",
      "1177 2018-04-23        1.040448        1.073650             2.5450\n",
      "1178        NaT             NaN             NaN             2.5380\n",
      "\n",
      "[1179 rows x 4 columns]\n"
     ]
    }
   ],
   "source": [
    "data=pd.read_excel(\"5 year Implied Vols.xlsx\")\n",
    "print(data)\n",
    "data.set_index('Date', inplace=True)\n",
    "\n",
    "data=data.fillna(method='ffill') \n",
    "data=data.reindex(index=data.index[::-1])\n",
    "\n",
    "#data[\"2yr Swap\"]\n",
    "#data[\"1m Implied Vol\"]\n"
   ]
  },
  {
   "cell_type": "code",
   "execution_count": 240,
   "id": "efd9a8a4",
   "metadata": {
    "id": "efd9a8a4",
    "outputId": "0fa699ff-ee08-4e61-bc3f-7ec6ccae8fd7"
   },
   "outputs": [
    {
     "name": "stdout",
     "output_type": "stream",
     "text": [
      "            1m Implied Vol  3m Implied Vol  5 Year Swap Rates\n",
      "Date                                                         \n",
      "NaT               1.040448        1.073650             2.5380\n",
      "2018-04-23        1.040448        1.073650             2.5450\n",
      "2018-04-24        1.033601        1.073848             2.5640\n",
      "2018-04-25        1.070361        1.102958             2.5390\n",
      "2018-04-26        1.020927        1.056979             2.5250\n",
      "...                    ...             ...                ...\n",
      "2022-12-23        1.529695        1.692305             3.6290\n",
      "2022-12-27        1.659759        1.709536             3.6891\n",
      "2022-12-28        1.578554        1.702463             3.7295\n",
      "2022-12-29        1.589110        1.713599             3.7013\n",
      "2022-12-30        1.571649        1.714200             3.7420\n",
      "\n",
      "[1179 rows x 3 columns]\n"
     ]
    }
   ],
   "source": [
    "print(data)\n"
   ]
  },
  {
   "cell_type": "code",
   "execution_count": 241,
   "id": "69b7119f",
   "metadata": {
    "id": "69b7119f"
   },
   "outputs": [],
   "source": [
    "data.to_excel(\"test.xlsx\")"
   ]
  },
  {
   "cell_type": "markdown",
   "id": "e8558056",
   "metadata": {
    "id": "e8558056"
   },
   "source": [
    "## Moving average 5yr"
   ]
  },
  {
   "cell_type": "code",
   "execution_count": 242,
   "id": "09415ef1",
   "metadata": {
    "id": "09415ef1",
    "outputId": "e1807aee-3972-43ea-8582-e1d98432dbc9"
   },
   "outputs": [
    {
     "name": "stdout",
     "output_type": "stream",
     "text": [
      "Final Cumulative Return: 1.1483946488953982\n"
     ]
    }
   ],
   "source": [
    "#1m5y\n",
    "import pandas as pd\n",
    "import numpy as np\n",
    "import matplotlib.pyplot as plt\n",
    "from datetime import datetime\n",
    "import pandas_datareader.data as web\n",
    "\n",
    "# extract 5-year par swap rates from FRED\n",
    "start_date = datetime(2018, 4, 23)\n",
    "end_date = datetime(2022, 12, 30)\n",
    "#par_swap_rates = web.DataReader(['DGS30'], 'fred', start_date, end_date)\n",
    "par_swap_rates=data[\"5 Year Swap Rates\"]\n",
    "\n",
    "# drop rows with missing data\n",
    "\n",
    "# compute daily log returns of par swap rates\n",
    "log_returns = np.log(par_swap_rates) - np.log(par_swap_rates.shift(1))\n",
    "\n",
    "# compute annualized volatilities of log returns\n",
    "#volatilities = log_returns.rolling(window=252).std() * np.sqrt(252)\n",
    "volatilities = data[\"1m Implied Vol\"]\n",
    "\n",
    "# compute 50-day and 200-day moving averages\n",
    "ma_50 = par_swap_rates.rolling(window=50).mean()\n",
    "ma_200 = par_swap_rates.rolling(window=200).mean()\n",
    "\n",
    "# compute 50-day and 200-day moving average volatilities\n",
    "ma_vol_50 = volatilities.rolling(window=50).mean()\n",
    "ma_vol_200 = volatilities.rolling(window=200).mean()\n",
    "\n",
    "# fill NaN values in volatilities with 0\n",
    "#volatilities.fillna(method='ffill', inplace=True)\n",
    "\n",
    "# define trading signals based on volatilities, moving averages, and stop loss\n",
    "signals = np.where((par_swap_rates > ma_50) &\n",
    "                   (ma_50 > ma_200) &\n",
    "                   (volatilities > ma_vol_50) &\n",
    "                   (volatilities > ma_vol_200) &\n",
    "                   (par_swap_rates.shift(1) > ma_50.shift(1)) &\n",
    "                   (par_swap_rates.shift(1) > ma_200.shift(1)) &\n",
    "                   (volatilities.shift(1) > ma_vol_50.shift(1)) &\n",
    "                   (volatilities.shift(1) > ma_vol_200.shift(1)) &\n",
    "                   (par_swap_rates - par_swap_rates.shift(1) > -0.01), 1,\n",
    "                   np.where((par_swap_rates < ma_50) &\n",
    "                            (ma_50 < ma_200) &\n",
    "                            (volatilities < ma_vol_50) &\n",
    "                            (volatilities < ma_vol_200) &\n",
    "                            (par_swap_rates.shift(1) < ma_50.shift(1)) &\n",
    "                            (par_swap_rates.shift(1) < ma_200.shift(1)) &\n",
    "                            (volatilities.shift(1) < ma_vol_50.shift(1)) &\n",
    "                            (volatilities.shift(1) < ma_vol_200.shift(1)) &\n",
    "                            (par_swap_rates - par_swap_rates.shift(1) < 0.01), -1, 0))\n",
    "\n",
    "# compute daily returns of trading strategy\n",
    "daily_returns_1m_5y = signals * log_returns\n",
    "\n",
    "# fill NaN values in daily returns with 0\n",
    "daily_returns_1m_5y.fillna(method='ffill', inplace=True)\n",
    "\n",
    "# compute cumulative returns of trading strategy\n",
    "cum_returns_1m_5y = np.exp(daily_returns_1m_5y.cumsum())\n",
    "\n",
    "# plot cumulative returns of trading strategy\n",
    "#plt.plot(cum_returns_1m_5y)\n",
    "#plt.title('Cumulative Returns')\n",
    "#plt.xlabel('Date')\n",
    "#plt.ylabel('Cumulative Returns')\n",
    "#plt.show()\n",
    "\n",
    "# print final cumulative return\n",
    "print('Final Cumulative Return:', cum_returns_1m_5y.iloc[-1])"
   ]
  },
  {
   "cell_type": "code",
   "execution_count": 243,
   "id": "53cb844a",
   "metadata": {
    "id": "53cb844a",
    "outputId": "467e846d-deec-47fd-ffc0-ed34224362b8"
   },
   "outputs": [
    {
     "data": {
      "text/plain": [
       "Date\n",
       "NaT                NaN\n",
       "2018-04-23    1.000000\n",
       "2018-04-24    1.000000\n",
       "2018-04-25    1.000000\n",
       "2018-04-26    1.000000\n",
       "                ...   \n",
       "2022-12-23    1.148395\n",
       "2022-12-27    1.148395\n",
       "2022-12-28    1.148395\n",
       "2022-12-29    1.148395\n",
       "2022-12-30    1.148395\n",
       "Name: 5 Year Swap Rates, Length: 1179, dtype: float64"
      ]
     },
     "execution_count": 243,
     "metadata": {},
     "output_type": "execute_result"
    }
   ],
   "source": [
    "cum_returns_1m_5y"
   ]
  },
  {
   "cell_type": "code",
   "execution_count": 244,
   "id": "228ccc53",
   "metadata": {
    "id": "228ccc53",
    "outputId": "e11d793c-272b-4516-b635-3419ad7a5f81"
   },
   "outputs": [
    {
     "name": "stdout",
     "output_type": "stream",
     "text": [
      "Final Cumulative Return: 1.1167697546124298\n"
     ]
    }
   ],
   "source": [
    "#3m5y\n",
    "import pandas as pd\n",
    "import numpy as np\n",
    "import matplotlib.pyplot as plt\n",
    "from datetime import datetime\n",
    "import pandas_datareader.data as web\n",
    "\n",
    "# extract 5-year par swap rates from FRED\n",
    "start_date = datetime(2018, 4, 23)\n",
    "end_date = datetime(2022, 12, 30)\n",
    "#par_swap_rates = web.DataReader(['DGS30'], 'fred', start_date, end_date)\n",
    "par_swap_rates=data[\"5 Year Swap Rates\"]\n",
    "\n",
    "# drop rows with missing data\n",
    "#par_swap_rates.dropna(inplace=True)\n",
    "\n",
    "# compute daily log returns of par swap rates\n",
    "log_returns = np.log(par_swap_rates) - np.log(par_swap_rates.shift(1))\n",
    "\n",
    "# compute annualized volatilities of log returns\n",
    "#volatilities = log_returns.rolling(window=252).std() * np.sqrt(252)\n",
    "volatilities = data[\"3m Implied Vol\"]\n",
    "\n",
    "# compute 50-day and 200-day moving averages\n",
    "ma_50 = par_swap_rates.rolling(window=50).mean()\n",
    "ma_200 = par_swap_rates.rolling(window=200).mean()\n",
    "\n",
    "# compute 50-day and 200-day moving average volatilities\n",
    "ma_vol_50 = volatilities.rolling(window=50).mean()\n",
    "ma_vol_200 = volatilities.rolling(window=200).mean()\n",
    "\n",
    "# fill NaN values in volatilities with 0\n",
    "\n",
    "\n",
    "# define trading signals based on volatilities, moving averages, and stop loss\n",
    "signals = np.where((par_swap_rates > ma_50) &\n",
    "                   (ma_50 > ma_200) &\n",
    "                   (volatilities > ma_vol_50) &\n",
    "                   (volatilities > ma_vol_200) &\n",
    "                   (par_swap_rates.shift(1) > ma_50.shift(1)) &\n",
    "                   (par_swap_rates.shift(1) > ma_200.shift(1)) &\n",
    "                   (volatilities.shift(1) > ma_vol_50.shift(1)) &\n",
    "                   (volatilities.shift(1) > ma_vol_200.shift(1)) &\n",
    "                   (par_swap_rates - par_swap_rates.shift(1) > -0.01), 1,\n",
    "                   np.where((par_swap_rates < ma_50) &\n",
    "                            (ma_50 < ma_200) &\n",
    "                            (volatilities < ma_vol_50) &\n",
    "                            (volatilities < ma_vol_200) &\n",
    "                            (par_swap_rates.shift(1) < ma_50.shift(1)) &\n",
    "                            (par_swap_rates.shift(1) < ma_200.shift(1)) &\n",
    "                            (volatilities.shift(1) < ma_vol_50.shift(1)) &\n",
    "                            (volatilities.shift(1) < ma_vol_200.shift(1)) &\n",
    "                            (par_swap_rates - par_swap_rates.shift(1) < 0.01), -1, 0))\n",
    "\n",
    "# compute daily returns of trading strategy\n",
    "daily_returns_3m_5y = signals * log_returns\n",
    "\n",
    "# fill NaN values in daily returns with 0\n",
    "#daily_returns_3m_5y.fillna(0, inplace=True)\n",
    "\n",
    "# compute cumulative returns of trading strategy\n",
    "cum_returns_3m_5y = np.exp(daily_returns_3m_5y.cumsum())\n",
    "\n",
    "# plot cumulative returns of trading strategy\n",
    "#plt.plot(cum_returns_3m_5y)\n",
    "#plt.title('Cumulative Returns')\n",
    "#plt.xlabel('Date')\n",
    "#plt.ylabel('Cumulative Returns')\n",
    "#plt.show()\n",
    "\n",
    "# print final cumulative return\n",
    "print('Final Cumulative Return:', cum_returns_3m_5y.iloc[-1])\n"
   ]
  },
  {
   "cell_type": "code",
   "execution_count": null,
   "id": "a3c39a86",
   "metadata": {
    "id": "a3c39a86"
   },
   "outputs": [],
   "source": []
  },
  {
   "cell_type": "code",
   "execution_count": 231,
   "id": "52c3513c",
   "metadata": {
    "id": "52c3513c",
    "outputId": "6780b01d-33b0-4373-ca22-495b12eaaaf3"
   },
   "outputs": [
    {
     "data": {
      "text/plain": [
       "Date\n",
       "2022-12-30         NaN\n",
       "2022-12-29    1.000000\n",
       "2022-12-28    1.000000\n",
       "2022-12-27    1.000000\n",
       "2022-12-23    1.000000\n",
       "                ...   \n",
       "2018-04-26    1.184250\n",
       "2018-04-25    1.184250\n",
       "2018-04-24    1.184250\n",
       "2018-04-23    1.184250\n",
       "NaT           1.187516\n",
       "Name: 5 Year Swap Rates, Length: 1179, dtype: float64"
      ]
     },
     "execution_count": 231,
     "metadata": {},
     "output_type": "execute_result"
    }
   ],
   "source": [
    "cum_returns_3m_5y"
   ]
  },
  {
   "cell_type": "code",
   "execution_count": 232,
   "id": "6a84a348",
   "metadata": {
    "id": "6a84a348"
   },
   "outputs": [],
   "source": [
    "daily_ret= pd.DataFrame()\n",
    "daily_ret['1m1y']= daily_returns_1m_1y\n",
    "daily_ret['3m1y']= daily_returns_3m_1y\n",
    "daily_ret['1m2y']= daily_returns_1m_2y\n",
    "daily_ret['3m2y']= daily_returns_3m_2y\n",
    "daily_ret['1m5y']= daily_returns_1m_5y\n",
    "daily_ret['3m5y']= daily_returns_3m_5y"
   ]
  },
  {
   "cell_type": "code",
   "execution_count": 233,
   "id": "efb22c5a",
   "metadata": {},
   "outputs": [],
   "source": [
    "daily_ret.fillna(method=\"ffill\",inplace=True)"
   ]
  },
  {
   "cell_type": "code",
   "execution_count": 234,
   "id": "5b5f3120",
   "metadata": {},
   "outputs": [],
   "source": [
    "daily_ret.to_csv(\"test.csv\")"
   ]
  },
  {
   "cell_type": "code",
   "execution_count": null,
   "id": "7b224a8e",
   "metadata": {
    "id": "7b224a8e"
   },
   "outputs": [],
   "source": [
    "cum_ret= pd.DataFrame()\n",
    "cum_ret['1m1y']= cum_returns_1m_1y\n",
    "cum_ret['3m1y']= cum_returns_3m_1y\n",
    "cum_ret['1m2y']= cum_returns_1m_2y\n",
    "cum_ret['3m2y']= cum_returns_3m_2y\n",
    "cum_ret['1m5y']= cum_returns_1m_5y\n",
    "cum_ret['3m5y']= cum_returns_3m_5y"
   ]
  },
  {
   "cell_type": "code",
   "execution_count": null,
   "id": "01ba5f6d",
   "metadata": {
    "id": "01ba5f6d",
    "outputId": "11d481e6-6421-44b9-c314-fffd66ec9214"
   },
   "outputs": [
    {
     "data": {
      "text/html": [
       "<div>\n",
       "<style scoped>\n",
       "    .dataframe tbody tr th:only-of-type {\n",
       "        vertical-align: middle;\n",
       "    }\n",
       "\n",
       "    .dataframe tbody tr th {\n",
       "        vertical-align: top;\n",
       "    }\n",
       "\n",
       "    .dataframe thead th {\n",
       "        text-align: right;\n",
       "    }\n",
       "</style>\n",
       "<table border=\"1\" class=\"dataframe\">\n",
       "  <thead>\n",
       "    <tr style=\"text-align: right;\">\n",
       "      <th></th>\n",
       "      <th>1m1y</th>\n",
       "      <th>3m1y</th>\n",
       "      <th>1m2y</th>\n",
       "      <th>3m2y</th>\n",
       "      <th>1m5y</th>\n",
       "      <th>3m5y</th>\n",
       "    </tr>\n",
       "    <tr>\n",
       "      <th>Date</th>\n",
       "      <th></th>\n",
       "      <th></th>\n",
       "      <th></th>\n",
       "      <th></th>\n",
       "      <th></th>\n",
       "      <th></th>\n",
       "    </tr>\n",
       "  </thead>\n",
       "  <tbody>\n",
       "    <tr>\n",
       "      <th>2023-04-19</th>\n",
       "      <td>1.000000</td>\n",
       "      <td>1.000000</td>\n",
       "      <td>NaN</td>\n",
       "      <td>NaN</td>\n",
       "      <td>NaN</td>\n",
       "      <td>NaN</td>\n",
       "    </tr>\n",
       "    <tr>\n",
       "      <th>2023-04-18</th>\n",
       "      <td>1.000000</td>\n",
       "      <td>1.000000</td>\n",
       "      <td>NaN</td>\n",
       "      <td>NaN</td>\n",
       "      <td>NaN</td>\n",
       "      <td>NaN</td>\n",
       "    </tr>\n",
       "    <tr>\n",
       "      <th>2023-04-17</th>\n",
       "      <td>1.000000</td>\n",
       "      <td>1.000000</td>\n",
       "      <td>NaN</td>\n",
       "      <td>NaN</td>\n",
       "      <td>NaN</td>\n",
       "      <td>NaN</td>\n",
       "    </tr>\n",
       "    <tr>\n",
       "      <th>2023-04-14</th>\n",
       "      <td>1.000000</td>\n",
       "      <td>1.000000</td>\n",
       "      <td>NaN</td>\n",
       "      <td>NaN</td>\n",
       "      <td>NaN</td>\n",
       "      <td>NaN</td>\n",
       "    </tr>\n",
       "    <tr>\n",
       "      <th>2023-04-13</th>\n",
       "      <td>1.000000</td>\n",
       "      <td>1.000000</td>\n",
       "      <td>NaN</td>\n",
       "      <td>NaN</td>\n",
       "      <td>NaN</td>\n",
       "      <td>NaN</td>\n",
       "    </tr>\n",
       "    <tr>\n",
       "      <th>...</th>\n",
       "      <td>...</td>\n",
       "      <td>...</td>\n",
       "      <td>...</td>\n",
       "      <td>...</td>\n",
       "      <td>...</td>\n",
       "      <td>...</td>\n",
       "    </tr>\n",
       "    <tr>\n",
       "      <th>2018-04-27</th>\n",
       "      <td>1.883829</td>\n",
       "      <td>1.692239</td>\n",
       "      <td>1.0</td>\n",
       "      <td>1.0</td>\n",
       "      <td>4.008678</td>\n",
       "      <td>1.18425</td>\n",
       "    </tr>\n",
       "    <tr>\n",
       "      <th>2018-04-26</th>\n",
       "      <td>1.882398</td>\n",
       "      <td>1.692239</td>\n",
       "      <td>1.0</td>\n",
       "      <td>1.0</td>\n",
       "      <td>4.008678</td>\n",
       "      <td>1.18425</td>\n",
       "    </tr>\n",
       "    <tr>\n",
       "      <th>2018-04-25</th>\n",
       "      <td>1.882398</td>\n",
       "      <td>1.692239</td>\n",
       "      <td>1.0</td>\n",
       "      <td>1.0</td>\n",
       "      <td>4.008678</td>\n",
       "      <td>1.18425</td>\n",
       "    </tr>\n",
       "    <tr>\n",
       "      <th>2018-04-24</th>\n",
       "      <td>1.882398</td>\n",
       "      <td>1.692239</td>\n",
       "      <td>1.0</td>\n",
       "      <td>1.0</td>\n",
       "      <td>4.008678</td>\n",
       "      <td>1.18425</td>\n",
       "    </tr>\n",
       "    <tr>\n",
       "      <th>2018-04-23</th>\n",
       "      <td>1.882398</td>\n",
       "      <td>1.692239</td>\n",
       "      <td>NaN</td>\n",
       "      <td>NaN</td>\n",
       "      <td>4.008678</td>\n",
       "      <td>1.18425</td>\n",
       "    </tr>\n",
       "  </tbody>\n",
       "</table>\n",
       "<p>1278 rows × 6 columns</p>\n",
       "</div>"
      ],
      "text/plain": [
       "                1m1y      3m1y  1m2y  3m2y      1m5y     3m5y\n",
       "Date                                                         \n",
       "2023-04-19  1.000000  1.000000   NaN   NaN       NaN      NaN\n",
       "2023-04-18  1.000000  1.000000   NaN   NaN       NaN      NaN\n",
       "2023-04-17  1.000000  1.000000   NaN   NaN       NaN      NaN\n",
       "2023-04-14  1.000000  1.000000   NaN   NaN       NaN      NaN\n",
       "2023-04-13  1.000000  1.000000   NaN   NaN       NaN      NaN\n",
       "...              ...       ...   ...   ...       ...      ...\n",
       "2018-04-27  1.883829  1.692239   1.0   1.0  4.008678  1.18425\n",
       "2018-04-26  1.882398  1.692239   1.0   1.0  4.008678  1.18425\n",
       "2018-04-25  1.882398  1.692239   1.0   1.0  4.008678  1.18425\n",
       "2018-04-24  1.882398  1.692239   1.0   1.0  4.008678  1.18425\n",
       "2018-04-23  1.882398  1.692239   NaN   NaN  4.008678  1.18425\n",
       "\n",
       "[1278 rows x 6 columns]"
      ]
     },
     "execution_count": 132,
     "metadata": {},
     "output_type": "execute_result"
    }
   ],
   "source": [
    "cum_ret"
   ]
  },
  {
   "cell_type": "code",
   "execution_count": null,
   "id": "4bd70348",
   "metadata": {
    "id": "4bd70348"
   },
   "outputs": [],
   "source": [
    "import pandas as pd"
   ]
  },
  {
   "cell_type": "code",
   "execution_count": null,
   "id": "1fe20a5c",
   "metadata": {
    "id": "1fe20a5c"
   },
   "outputs": [],
   "source": []
  },
  {
   "cell_type": "code",
   "execution_count": null,
   "id": "355fc294",
   "metadata": {
    "id": "355fc294",
    "outputId": "f2850f4b-89d2-43b6-9b97-24904e1f329c"
   },
   "outputs": [
    {
     "data": {
      "text/html": [
       "<div>\n",
       "<style scoped>\n",
       "    .dataframe tbody tr th:only-of-type {\n",
       "        vertical-align: middle;\n",
       "    }\n",
       "\n",
       "    .dataframe tbody tr th {\n",
       "        vertical-align: top;\n",
       "    }\n",
       "\n",
       "    .dataframe thead th {\n",
       "        text-align: right;\n",
       "    }\n",
       "</style>\n",
       "<table border=\"1\" class=\"dataframe\">\n",
       "  <thead>\n",
       "    <tr style=\"text-align: right;\">\n",
       "      <th></th>\n",
       "      <th>1m1y</th>\n",
       "      <th>3m1y</th>\n",
       "      <th>1m2y</th>\n",
       "      <th>3m2y</th>\n",
       "      <th>1m5y</th>\n",
       "      <th>3m5y</th>\n",
       "    </tr>\n",
       "    <tr>\n",
       "      <th>Date</th>\n",
       "      <th></th>\n",
       "      <th></th>\n",
       "      <th></th>\n",
       "      <th></th>\n",
       "      <th></th>\n",
       "      <th></th>\n",
       "    </tr>\n",
       "  </thead>\n",
       "  <tbody>\n",
       "    <tr>\n",
       "      <th>2023-04-19</th>\n",
       "      <td>0.0</td>\n",
       "      <td>0.0</td>\n",
       "      <td>NaN</td>\n",
       "      <td>NaN</td>\n",
       "      <td>NaN</td>\n",
       "      <td>NaN</td>\n",
       "    </tr>\n",
       "    <tr>\n",
       "      <th>2023-04-18</th>\n",
       "      <td>-0.0</td>\n",
       "      <td>-0.0</td>\n",
       "      <td>NaN</td>\n",
       "      <td>NaN</td>\n",
       "      <td>NaN</td>\n",
       "      <td>NaN</td>\n",
       "    </tr>\n",
       "    <tr>\n",
       "      <th>2023-04-17</th>\n",
       "      <td>-0.0</td>\n",
       "      <td>-0.0</td>\n",
       "      <td>NaN</td>\n",
       "      <td>NaN</td>\n",
       "      <td>NaN</td>\n",
       "      <td>NaN</td>\n",
       "    </tr>\n",
       "    <tr>\n",
       "      <th>2023-04-14</th>\n",
       "      <td>-0.0</td>\n",
       "      <td>-0.0</td>\n",
       "      <td>NaN</td>\n",
       "      <td>NaN</td>\n",
       "      <td>NaN</td>\n",
       "      <td>NaN</td>\n",
       "    </tr>\n",
       "    <tr>\n",
       "      <th>2023-04-13</th>\n",
       "      <td>-0.0</td>\n",
       "      <td>-0.0</td>\n",
       "      <td>NaN</td>\n",
       "      <td>NaN</td>\n",
       "      <td>NaN</td>\n",
       "      <td>NaN</td>\n",
       "    </tr>\n",
       "    <tr>\n",
       "      <th>2023-04-12</th>\n",
       "      <td>-0.0</td>\n",
       "      <td>-0.0</td>\n",
       "      <td>NaN</td>\n",
       "      <td>NaN</td>\n",
       "      <td>NaN</td>\n",
       "      <td>NaN</td>\n",
       "    </tr>\n",
       "    <tr>\n",
       "      <th>2023-04-11</th>\n",
       "      <td>0.0</td>\n",
       "      <td>0.0</td>\n",
       "      <td>NaN</td>\n",
       "      <td>NaN</td>\n",
       "      <td>NaN</td>\n",
       "      <td>NaN</td>\n",
       "    </tr>\n",
       "    <tr>\n",
       "      <th>2023-04-10</th>\n",
       "      <td>0.0</td>\n",
       "      <td>0.0</td>\n",
       "      <td>NaN</td>\n",
       "      <td>NaN</td>\n",
       "      <td>NaN</td>\n",
       "      <td>NaN</td>\n",
       "    </tr>\n",
       "    <tr>\n",
       "      <th>2023-04-07</th>\n",
       "      <td>-0.0</td>\n",
       "      <td>-0.0</td>\n",
       "      <td>NaN</td>\n",
       "      <td>NaN</td>\n",
       "      <td>NaN</td>\n",
       "      <td>NaN</td>\n",
       "    </tr>\n",
       "    <tr>\n",
       "      <th>2023-04-06</th>\n",
       "      <td>-0.0</td>\n",
       "      <td>-0.0</td>\n",
       "      <td>NaN</td>\n",
       "      <td>NaN</td>\n",
       "      <td>NaN</td>\n",
       "      <td>NaN</td>\n",
       "    </tr>\n",
       "    <tr>\n",
       "      <th>2023-04-05</th>\n",
       "      <td>-0.0</td>\n",
       "      <td>-0.0</td>\n",
       "      <td>NaN</td>\n",
       "      <td>NaN</td>\n",
       "      <td>NaN</td>\n",
       "      <td>NaN</td>\n",
       "    </tr>\n",
       "    <tr>\n",
       "      <th>2023-04-04</th>\n",
       "      <td>0.0</td>\n",
       "      <td>0.0</td>\n",
       "      <td>NaN</td>\n",
       "      <td>NaN</td>\n",
       "      <td>NaN</td>\n",
       "      <td>NaN</td>\n",
       "    </tr>\n",
       "    <tr>\n",
       "      <th>2023-04-03</th>\n",
       "      <td>0.0</td>\n",
       "      <td>0.0</td>\n",
       "      <td>NaN</td>\n",
       "      <td>NaN</td>\n",
       "      <td>NaN</td>\n",
       "      <td>NaN</td>\n",
       "    </tr>\n",
       "    <tr>\n",
       "      <th>2023-03-31</th>\n",
       "      <td>0.0</td>\n",
       "      <td>0.0</td>\n",
       "      <td>NaN</td>\n",
       "      <td>NaN</td>\n",
       "      <td>NaN</td>\n",
       "      <td>NaN</td>\n",
       "    </tr>\n",
       "    <tr>\n",
       "      <th>2023-03-30</th>\n",
       "      <td>0.0</td>\n",
       "      <td>0.0</td>\n",
       "      <td>NaN</td>\n",
       "      <td>NaN</td>\n",
       "      <td>NaN</td>\n",
       "      <td>NaN</td>\n",
       "    </tr>\n",
       "    <tr>\n",
       "      <th>2023-03-29</th>\n",
       "      <td>-0.0</td>\n",
       "      <td>-0.0</td>\n",
       "      <td>NaN</td>\n",
       "      <td>NaN</td>\n",
       "      <td>NaN</td>\n",
       "      <td>NaN</td>\n",
       "    </tr>\n",
       "    <tr>\n",
       "      <th>2023-03-28</th>\n",
       "      <td>-0.0</td>\n",
       "      <td>-0.0</td>\n",
       "      <td>NaN</td>\n",
       "      <td>NaN</td>\n",
       "      <td>NaN</td>\n",
       "      <td>NaN</td>\n",
       "    </tr>\n",
       "    <tr>\n",
       "      <th>2023-03-27</th>\n",
       "      <td>-0.0</td>\n",
       "      <td>-0.0</td>\n",
       "      <td>NaN</td>\n",
       "      <td>NaN</td>\n",
       "      <td>NaN</td>\n",
       "      <td>NaN</td>\n",
       "    </tr>\n",
       "    <tr>\n",
       "      <th>2023-03-24</th>\n",
       "      <td>-0.0</td>\n",
       "      <td>-0.0</td>\n",
       "      <td>NaN</td>\n",
       "      <td>NaN</td>\n",
       "      <td>NaN</td>\n",
       "      <td>NaN</td>\n",
       "    </tr>\n",
       "    <tr>\n",
       "      <th>2023-03-23</th>\n",
       "      <td>0.0</td>\n",
       "      <td>0.0</td>\n",
       "      <td>NaN</td>\n",
       "      <td>NaN</td>\n",
       "      <td>NaN</td>\n",
       "      <td>NaN</td>\n",
       "    </tr>\n",
       "  </tbody>\n",
       "</table>\n",
       "</div>"
      ],
      "text/plain": [
       "            1m1y  3m1y  1m2y  3m2y  1m5y  3m5y\n",
       "Date                                          \n",
       "2023-04-19   0.0   0.0   NaN   NaN   NaN   NaN\n",
       "2023-04-18  -0.0  -0.0   NaN   NaN   NaN   NaN\n",
       "2023-04-17  -0.0  -0.0   NaN   NaN   NaN   NaN\n",
       "2023-04-14  -0.0  -0.0   NaN   NaN   NaN   NaN\n",
       "2023-04-13  -0.0  -0.0   NaN   NaN   NaN   NaN\n",
       "2023-04-12  -0.0  -0.0   NaN   NaN   NaN   NaN\n",
       "2023-04-11   0.0   0.0   NaN   NaN   NaN   NaN\n",
       "2023-04-10   0.0   0.0   NaN   NaN   NaN   NaN\n",
       "2023-04-07  -0.0  -0.0   NaN   NaN   NaN   NaN\n",
       "2023-04-06  -0.0  -0.0   NaN   NaN   NaN   NaN\n",
       "2023-04-05  -0.0  -0.0   NaN   NaN   NaN   NaN\n",
       "2023-04-04   0.0   0.0   NaN   NaN   NaN   NaN\n",
       "2023-04-03   0.0   0.0   NaN   NaN   NaN   NaN\n",
       "2023-03-31   0.0   0.0   NaN   NaN   NaN   NaN\n",
       "2023-03-30   0.0   0.0   NaN   NaN   NaN   NaN\n",
       "2023-03-29  -0.0  -0.0   NaN   NaN   NaN   NaN\n",
       "2023-03-28  -0.0  -0.0   NaN   NaN   NaN   NaN\n",
       "2023-03-27  -0.0  -0.0   NaN   NaN   NaN   NaN\n",
       "2023-03-24  -0.0  -0.0   NaN   NaN   NaN   NaN\n",
       "2023-03-23   0.0   0.0   NaN   NaN   NaN   NaN"
      ]
     },
     "execution_count": 81,
     "metadata": {},
     "output_type": "execute_result"
    }
   ],
   "source": [
    "daily_ret= pd.DataFrame()\n",
    "daily_ret['1m1y']= daily_returns_1m_1y\n",
    "daily_ret['3m1y']= daily_returns_3m_1y\n",
    "daily_ret['1m2y']= daily_returns_1m_2y\n",
    "daily_ret['3m2y']= daily_returns_3m_2y\n",
    "daily_ret['1m5y']= daily_returns_1m_5y\n",
    "daily_ret['3m5y']= daily_returns_3m_5y\n",
    "daily_ret.head(20)"
   ]
  },
  {
   "cell_type": "code",
   "execution_count": null,
   "id": "03864070",
   "metadata": {
    "id": "03864070"
   },
   "outputs": [],
   "source": [
    "daily_ret.to_excel(\"daily_return.xlsx\") "
   ]
  },
  {
   "cell_type": "code",
   "execution_count": null,
   "id": "51815c2f",
   "metadata": {
    "id": "51815c2f"
   },
   "outputs": [],
   "source": []
  },
  {
   "cell_type": "code",
   "execution_count": 246,
   "id": "9b1e6595",
   "metadata": {
    "id": "9b1e6595"
   },
   "outputs": [
    {
     "data": {
      "image/png": "[encoded data removed]",
      "text/plain": [
       "<Figure size 1500x1000 with 1 Axes>"
      ]
     },
     "metadata": {},
     "output_type": "display_data"
    }
   ],
   "source": [
    "plt.figure(figsize=(15, 10))\n",
    "plt.plot(cum_returns_1m_1y)\n",
    "plt.plot(cum_returns_3m_1y)\n",
    "plt.plot(cum_returns_1m_2y)\n",
    "plt.plot(cum_returns_3m_2y)\n",
    "plt.plot(cum_returns_1m_5y)\n",
    "plt.plot(cum_returns_3m_5y)\n",
    "plt.title('Cumulative Returns')\n",
    "plt.xlabel('Date')\n",
    "plt.ylabel('Cumulative Returns')\n",
    "\n",
    "plt.legend(['cum_returns_1m_1y','cum_returns_3m_1y','cum_returns_1m_2y','cum_returns_3m_2y','cum_returns_1m_5y','cum_returns_3m_5y'])\n",
    "plt.show()"
   ]
  },
  {
   "cell_type": "code",
   "execution_count": 247,
   "id": "dd97eb4d",
   "metadata": {},
   "outputs": [
    {
     "data": {
      "image/png": "[encoded data removed]",
      "text/plain": [
       "<Figure size 1500x1000 with 1 Axes>"
      ]
     },
     "metadata": {},
     "output_type": "display_data"
    }
   ],
   "source": [
    "plt.figure(figsize=(15, 10))\n",
    "\n",
    "plt.plot(cum_returns_1m_2y)\n",
    "plt.plot(cum_returns_3m_2y)\n",
    "plt.plot(cum_returns_1m_5y)\n",
    "plt.plot(cum_returns_3m_5y)\n",
    "plt.title('Cumulative Returns')\n",
    "plt.xlabel('Date')\n",
    "plt.ylabel('Cumulative Returns')\n",
    "\n",
    "plt.legend(['cum_returns_1m_2y','cum_returns_3m_2y','cum_returns_1m_5y','cum_returns_3m_5y'])\n",
    "plt.show()"
   ]
  }
 ],
 "metadata": {
  "colab": {
   "provenance": []
  },
  "kernelspec": {
   "display_name": "Python 3 (ipykernel)",
   "language": "python",
   "name": "python3"
  },
  "language_info": {
   "codemirror_mode": {
    "name": "ipython",
    "version": 3
   },
   "file_extension": ".py",
   "mimetype": "text/x-python",
   "name": "python",
   "nbconvert_exporter": "python",
   "pygments_lexer": "ipython3",
   "version": "3.9.13"
  }
 },
 "nbformat": 4,
 "nbformat_minor": 5
}
