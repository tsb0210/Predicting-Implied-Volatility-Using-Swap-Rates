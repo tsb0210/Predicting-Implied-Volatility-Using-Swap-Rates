{
 "cells": [
  {
   "cell_type": "code",
   "execution_count": 56,
   "id": "c96db120",
   "metadata": {},
   "outputs": [],
   "source": [
    "# Load the required modules and packages\n",
    "import numpy as np\n",
    "import pandas as pd\n",
    "import pandas_datareader as web\n",
    "import plotly.express as px\n",
    "import pandas_datareader\n",
    "import datetime\n",
    "import pandas_datareader.data as web\n",
    "import plotly.graph_objects as go\n",
    "import matplotlib.pyplot as plt\n"
   ]
  },
  {
   "cell_type": "code",
   "execution_count": null,
   "id": "17ebee00",
   "metadata": {},
   "outputs": [],
   "source": [
    "'''#Extract 2019 and 2020 YTD data\n",
    "start = datetime.datetime(2015, 7, 1)\n",
    "end = datetime.datetime(2016, 10, 2)\n",
    "VDE = web.DataReader('VDE','yahoo',start,end)\n",
    "VFH = web.DataReader('VFH','yahoo',start,end)\n",
    "VGT = web.DataReader('VGT','yahoo',start,end)\n",
    "VHT = web.DataReader('VHT','yahoo',start,end)\n",
    "VDC = web.DataReader('VDC','yahoo',start,end)\n",
    "\n",
    "##Benchmark SPY for comparision\n",
    "SPY = web.DataReader('SPY','yahoo',start,end)'''"
   ]
  },
  {
   "cell_type": "code",
   "execution_count": 178,
   "id": "bae8937a",
   "metadata": {},
   "outputs": [],
   "source": [
    "stock_names = ['1m Implied Vol_x','3m Implied Vol_x','1m Implied Vol_y','3m Implied Vol_y','1m Implied Vol','3m Implied Vol']\n",
    "initial_value=12.651939\n"
   ]
  },
  {
   "cell_type": "code",
   "execution_count": 179,
   "id": "eb27587f",
   "metadata": {},
   "outputs": [
    {
     "data": {
      "application/vnd.plotly.v1+json": {
       "config": {
        "plotlyServerURL": "https://plot.ly"
       },
       "data": [
        {
         "labels": [
          "1m Implied Vol_x",
          "3m Implied Vol_x",
          "1m Implied Vol_y",
          "3m Implied Vol_y",
          "1m Implied Vol",
          "3m Implied Vol"
         ],
         "type": "pie",
         "values": [
          0.1600351,
          0.08496445,
          0.20925847,
          0.23901886,
          0.17930029,
          0.12742284
         ]
        }
       ],
       "layout": {
        "template": {
         "data": {
          "bar": [
           {
            "error_x": {
             "color": "#2a3f5f"
            },
            "error_y": {
             "color": "#2a3f5f"
            },
            "marker": {
             "line": {
              "color": "#E5ECF6",
              "width": 0.5
             },
             "pattern": {
              "fillmode": "overlay",
              "size": 10,
              "solidity": 0.2
             }
            },
            "type": "bar"
           }
          ],
          "barpolar": [
           {
            "marker": {
             "line": {
              "color": "#E5ECF6",
              "width": 0.5
             },
             "pattern": {
              "fillmode": "overlay",
              "size": 10,
              "solidity": 0.2
             }
            },
            "type": "barpolar"
           }
          ],
          "carpet": [
           {
            "aaxis": {
             "endlinecolor": "#2a3f5f",
             "gridcolor": "white",
             "linecolor": "white",
             "minorgridcolor": "white",
             "startlinecolor": "#2a3f5f"
            },
            "baxis": {
             "endlinecolor": "#2a3f5f",
             "gridcolor": "white",
             "linecolor": "white",
             "minorgridcolor": "white",
             "startlinecolor": "#2a3f5f"
            },
            "type": "carpet"
           }
          ],
          "choropleth": [
           {
            "colorbar": {
             "outlinewidth": 0,
             "ticks": ""
            },
            "type": "choropleth"
           }
          ],
          "contour": [
           {
            "colorbar": {
             "outlinewidth": 0,
             "ticks": ""
            },
            "colorscale": [
             [
              0,
              "#0d0887"
             ],
             [
              0.1111111111111111,
              "#46039f"
             ],
             [
              0.2222222222222222,
              "#7201a8"
             ],
             [
              0.3333333333333333,
              "#9c179e"
             ],
             [
              0.4444444444444444,
              "#bd3786"
             ],
             [
              0.5555555555555556,
              "#d8576b"
             ],
             [
              0.6666666666666666,
              "#ed7953"
             ],
             [
              0.7777777777777778,
              "#fb9f3a"
             ],
             [
              0.8888888888888888,
              "#fdca26"
             ],
             [
              1,
              "#f0f921"
             ]
            ],
            "type": "contour"
           }
          ],
          "contourcarpet": [
           {
            "colorbar": {
             "outlinewidth": 0,
             "ticks": ""
            },
            "type": "contourcarpet"
           }
          ],
          "heatmap": [
           {
            "colorbar": {
             "outlinewidth": 0,
             "ticks": ""
            },
            "colorscale": [
             [
              0,
              "#0d0887"
             ],
             [
              0.1111111111111111,
              "#46039f"
             ],
             [
              0.2222222222222222,
              "#7201a8"
             ],
             [
              0.3333333333333333,
              "#9c179e"
             ],
             [
              0.4444444444444444,
              "#bd3786"
             ],
             [
              0.5555555555555556,
              "#d8576b"
             ],
             [
              0.6666666666666666,
              "#ed7953"
             ],
             [
              0.7777777777777778,
              "#fb9f3a"
             ],
             [
              0.8888888888888888,
              "#fdca26"
             ],
             [
              1,
              "#f0f921"
             ]
            ],
            "type": "heatmap"
           }
          ],
          "heatmapgl": [
           {
            "colorbar": {
             "outlinewidth": 0,
             "ticks": ""
            },
            "colorscale": [
             [
              0,
              "#0d0887"
             ],
             [
              0.1111111111111111,
              "#46039f"
             ],
             [
              0.2222222222222222,
              "#7201a8"
             ],
             [
              0.3333333333333333,
              "#9c179e"
             ],
             [
              0.4444444444444444,
              "#bd3786"
             ],
             [
              0.5555555555555556,
              "#d8576b"
             ],
             [
              0.6666666666666666,
              "#ed7953"
             ],
             [
              0.7777777777777778,
              "#fb9f3a"
             ],
             [
              0.8888888888888888,
              "#fdca26"
             ],
             [
              1,
              "#f0f921"
             ]
            ],
            "type": "heatmapgl"
           }
          ],
          "histogram": [
           {
            "marker": {
             "pattern": {
              "fillmode": "overlay",
              "size": 10,
              "solidity": 0.2
             }
            },
            "type": "histogram"
           }
          ],
          "histogram2d": [
           {
            "colorbar": {
             "outlinewidth": 0,
             "ticks": ""
            },
            "colorscale": [
             [
              0,
              "#0d0887"
             ],
             [
              0.1111111111111111,
              "#46039f"
             ],
             [
              0.2222222222222222,
              "#7201a8"
             ],
             [
              0.3333333333333333,
              "#9c179e"
             ],
             [
              0.4444444444444444,
              "#bd3786"
             ],
             [
              0.5555555555555556,
              "#d8576b"
             ],
             [
              0.6666666666666666,
              "#ed7953"
             ],
             [
              0.7777777777777778,
              "#fb9f3a"
             ],
             [
              0.8888888888888888,
              "#fdca26"
             ],
             [
              1,
              "#f0f921"
             ]
            ],
            "type": "histogram2d"
           }
          ],
          "histogram2dcontour": [
           {
            "colorbar": {
             "outlinewidth": 0,
             "ticks": ""
            },
            "colorscale": [
             [
              0,
              "#0d0887"
             ],
             [
              0.1111111111111111,
              "#46039f"
             ],
             [
              0.2222222222222222,
              "#7201a8"
             ],
             [
              0.3333333333333333,
              "#9c179e"
             ],
             [
              0.4444444444444444,
              "#bd3786"
             ],
             [
              0.5555555555555556,
              "#d8576b"
             ],
             [
              0.6666666666666666,
              "#ed7953"
             ],
             [
              0.7777777777777778,
              "#fb9f3a"
             ],
             [
              0.8888888888888888,
              "#fdca26"
             ],
             [
              1,
              "#f0f921"
             ]
            ],
            "type": "histogram2dcontour"
           }
          ],
          "mesh3d": [
           {
            "colorbar": {
             "outlinewidth": 0,
             "ticks": ""
            },
            "type": "mesh3d"
           }
          ],
          "parcoords": [
           {
            "line": {
             "colorbar": {
              "outlinewidth": 0,
              "ticks": ""
             }
            },
            "type": "parcoords"
           }
          ],
          "pie": [
           {
            "automargin": true,
            "type": "pie"
           }
          ],
          "scatter": [
           {
            "marker": {
             "colorbar": {
              "outlinewidth": 0,
              "ticks": ""
             }
            },
            "type": "scatter"
           }
          ],
          "scatter3d": [
           {
            "line": {
             "colorbar": {
              "outlinewidth": 0,
              "ticks": ""
             }
            },
            "marker": {
             "colorbar": {
              "outlinewidth": 0,
              "ticks": ""
             }
            },
            "type": "scatter3d"
           }
          ],
          "scattercarpet": [
           {
            "marker": {
             "colorbar": {
              "outlinewidth": 0,
              "ticks": ""
             }
            },
            "type": "scattercarpet"
           }
          ],
          "scattergeo": [
           {
            "marker": {
             "colorbar": {
              "outlinewidth": 0,
              "ticks": ""
             }
            },
            "type": "scattergeo"
           }
          ],
          "scattergl": [
           {
            "marker": {
             "colorbar": {
              "outlinewidth": 0,
              "ticks": ""
             }
            },
            "type": "scattergl"
           }
          ],
          "scattermapbox": [
           {
            "marker": {
             "colorbar": {
              "outlinewidth": 0,
              "ticks": ""
             }
            },
            "type": "scattermapbox"
           }
          ],
          "scatterpolar": [
           {
            "marker": {
             "colorbar": {
              "outlinewidth": 0,
              "ticks": ""
             }
            },
            "type": "scatterpolar"
           }
          ],
          "scatterpolargl": [
           {
            "marker": {
             "colorbar": {
              "outlinewidth": 0,
              "ticks": ""
             }
            },
            "type": "scatterpolargl"
           }
          ],
          "scatterternary": [
           {
            "marker": {
             "colorbar": {
              "outlinewidth": 0,
              "ticks": ""
             }
            },
            "type": "scatterternary"
           }
          ],
          "surface": [
           {
            "colorbar": {
             "outlinewidth": 0,
             "ticks": ""
            },
            "colorscale": [
             [
              0,
              "#0d0887"
             ],
             [
              0.1111111111111111,
              "#46039f"
             ],
             [
              0.2222222222222222,
              "#7201a8"
             ],
             [
              0.3333333333333333,
              "#9c179e"
             ],
             [
              0.4444444444444444,
              "#bd3786"
             ],
             [
              0.5555555555555556,
              "#d8576b"
             ],
             [
              0.6666666666666666,
              "#ed7953"
             ],
             [
              0.7777777777777778,
              "#fb9f3a"
             ],
             [
              0.8888888888888888,
              "#fdca26"
             ],
             [
              1,
              "#f0f921"
             ]
            ],
            "type": "surface"
           }
          ],
          "table": [
           {
            "cells": {
             "fill": {
              "color": "#EBF0F8"
             },
             "line": {
              "color": "white"
             }
            },
            "header": {
             "fill": {
              "color": "#C8D4E3"
             },
             "line": {
              "color": "white"
             }
            },
            "type": "table"
           }
          ]
         },
         "layout": {
          "annotationdefaults": {
           "arrowcolor": "#2a3f5f",
           "arrowhead": 0,
           "arrowwidth": 1
          },
          "autotypenumbers": "strict",
          "coloraxis": {
           "colorbar": {
            "outlinewidth": 0,
            "ticks": ""
           }
          },
          "colorscale": {
           "diverging": [
            [
             0,
             "#8e0152"
            ],
            [
             0.1,
             "#c51b7d"
            ],
            [
             0.2,
             "#de77ae"
            ],
            [
             0.3,
             "#f1b6da"
            ],
            [
             0.4,
             "#fde0ef"
            ],
            [
             0.5,
             "#f7f7f7"
            ],
            [
             0.6,
             "#e6f5d0"
            ],
            [
             0.7,
             "#b8e186"
            ],
            [
             0.8,
             "#7fbc41"
            ],
            [
             0.9,
             "#4d9221"
            ],
            [
             1,
             "#276419"
            ]
           ],
           "sequential": [
            [
             0,
             "#0d0887"
            ],
            [
             0.1111111111111111,
             "#46039f"
            ],
            [
             0.2222222222222222,
             "#7201a8"
            ],
            [
             0.3333333333333333,
             "#9c179e"
            ],
            [
             0.4444444444444444,
             "#bd3786"
            ],
            [
             0.5555555555555556,
             "#d8576b"
            ],
            [
             0.6666666666666666,
             "#ed7953"
            ],
            [
             0.7777777777777778,
             "#fb9f3a"
            ],
            [
             0.8888888888888888,
             "#fdca26"
            ],
            [
             1,
             "#f0f921"
            ]
           ],
           "sequentialminus": [
            [
             0,
             "#0d0887"
            ],
            [
             0.1111111111111111,
             "#46039f"
            ],
            [
             0.2222222222222222,
             "#7201a8"
            ],
            [
             0.3333333333333333,
             "#9c179e"
            ],
            [
             0.4444444444444444,
             "#bd3786"
            ],
            [
             0.5555555555555556,
             "#d8576b"
            ],
            [
             0.6666666666666666,
             "#ed7953"
            ],
            [
             0.7777777777777778,
             "#fb9f3a"
            ],
            [
             0.8888888888888888,
             "#fdca26"
            ],
            [
             1,
             "#f0f921"
            ]
           ]
          },
          "colorway": [
           "#636efa",
           "#EF553B",
           "#00cc96",
           "#ab63fa",
           "#FFA15A",
           "#19d3f3",
           "#FF6692",
           "#B6E880",
           "#FF97FF",
           "#FECB52"
          ],
          "font": {
           "color": "#2a3f5f"
          },
          "geo": {
           "bgcolor": "white",
           "lakecolor": "white",
           "landcolor": "#E5ECF6",
           "showlakes": true,
           "showland": true,
           "subunitcolor": "white"
          },
          "hoverlabel": {
           "align": "left"
          },
          "hovermode": "closest",
          "mapbox": {
           "style": "light"
          },
          "paper_bgcolor": "white",
          "plot_bgcolor": "#E5ECF6",
          "polar": {
           "angularaxis": {
            "gridcolor": "white",
            "linecolor": "white",
            "ticks": ""
           },
           "bgcolor": "#E5ECF6",
           "radialaxis": {
            "gridcolor": "white",
            "linecolor": "white",
            "ticks": ""
           }
          },
          "scene": {
           "xaxis": {
            "backgroundcolor": "#E5ECF6",
            "gridcolor": "white",
            "gridwidth": 2,
            "linecolor": "white",
            "showbackground": true,
            "ticks": "",
            "zerolinecolor": "white"
           },
           "yaxis": {
            "backgroundcolor": "#E5ECF6",
            "gridcolor": "white",
            "gridwidth": 2,
            "linecolor": "white",
            "showbackground": true,
            "ticks": "",
            "zerolinecolor": "white"
           },
           "zaxis": {
            "backgroundcolor": "#E5ECF6",
            "gridcolor": "white",
            "gridwidth": 2,
            "linecolor": "white",
            "showbackground": true,
            "ticks": "",
            "zerolinecolor": "white"
           }
          },
          "shapedefaults": {
           "line": {
            "color": "#2a3f5f"
           }
          },
          "ternary": {
           "aaxis": {
            "gridcolor": "white",
            "linecolor": "white",
            "ticks": ""
           },
           "baxis": {
            "gridcolor": "white",
            "linecolor": "white",
            "ticks": ""
           },
           "bgcolor": "#E5ECF6",
           "caxis": {
            "gridcolor": "white",
            "linecolor": "white",
            "ticks": ""
           }
          },
          "title": {
           "x": 0.05
          },
          "xaxis": {
           "automargin": true,
           "gridcolor": "white",
           "linecolor": "white",
           "ticks": "",
           "title": {
            "standoff": 15
           },
           "zerolinecolor": "white",
           "zerolinewidth": 2
          },
          "yaxis": {
           "automargin": true,
           "gridcolor": "white",
           "linecolor": "white",
           "ticks": "",
           "title": {
            "standoff": 15
           },
           "zerolinecolor": "white",
           "zerolinewidth": 2
          }
         }
        },
        "title": {
         "text": "Portfolio Asset Allocation"
        }
       }
      },
      "text/html": [
       "<div>                            <div id=\"1ab27de6-3811-40d1-991f-51d9d9416784\" class=\"plotly-graph-div\" style=\"height:525px; width:100%;\"></div>            <script type=\"text/javascript\">                require([\"plotly\"], function(Plotly) {                    window.PLOTLYENV=window.PLOTLYENV || {};                                    if (document.getElementById(\"1ab27de6-3811-40d1-991f-51d9d9416784\")) {                    Plotly.newPlot(                        \"1ab27de6-3811-40d1-991f-51d9d9416784\",                        [{\"labels\":[\"1m Implied Vol_x\",\"3m Implied Vol_x\",\"1m Implied Vol_y\",\"3m Implied Vol_y\",\"1m Implied Vol\",\"3m Implied Vol\"],\"values\":[0.1600351,0.08496445,0.20925847,0.23901886,0.17930029,0.12742284],\"type\":\"pie\"}],                        {\"template\":{\"data\":{\"bar\":[{\"error_x\":{\"color\":\"#2a3f5f\"},\"error_y\":{\"color\":\"#2a3f5f\"},\"marker\":{\"line\":{\"color\":\"#E5ECF6\",\"width\":0.5},\"pattern\":{\"fillmode\":\"overlay\",\"size\":10,\"solidity\":0.2}},\"type\":\"bar\"}],\"barpolar\":[{\"marker\":{\"line\":{\"color\":\"#E5ECF6\",\"width\":0.5},\"pattern\":{\"fillmode\":\"overlay\",\"size\":10,\"solidity\":0.2}},\"type\":\"barpolar\"}],\"carpet\":[{\"aaxis\":{\"endlinecolor\":\"#2a3f5f\",\"gridcolor\":\"white\",\"linecolor\":\"white\",\"minorgridcolor\":\"white\",\"startlinecolor\":\"#2a3f5f\"},\"baxis\":{\"endlinecolor\":\"#2a3f5f\",\"gridcolor\":\"white\",\"linecolor\":\"white\",\"minorgridcolor\":\"white\",\"startlinecolor\":\"#2a3f5f\"},\"type\":\"carpet\"}],\"choropleth\":[{\"colorbar\":{\"outlinewidth\":0,\"ticks\":\"\"},\"type\":\"choropleth\"}],\"contour\":[{\"colorbar\":{\"outlinewidth\":0,\"ticks\":\"\"},\"colorscale\":[[0.0,\"#0d0887\"],[0.1111111111111111,\"#46039f\"],[0.2222222222222222,\"#7201a8\"],[0.3333333333333333,\"#9c179e\"],[0.4444444444444444,\"#bd3786\"],[0.5555555555555556,\"#d8576b\"],[0.6666666666666666,\"#ed7953\"],[0.7777777777777778,\"#fb9f3a\"],[0.8888888888888888,\"#fdca26\"],[1.0,\"#f0f921\"]],\"type\":\"contour\"}],\"contourcarpet\":[{\"colorbar\":{\"outlinewidth\":0,\"ticks\":\"\"},\"type\":\"contourcarpet\"}],\"heatmap\":[{\"colorbar\":{\"outlinewidth\":0,\"ticks\":\"\"},\"colorscale\":[[0.0,\"#0d0887\"],[0.1111111111111111,\"#46039f\"],[0.2222222222222222,\"#7201a8\"],[0.3333333333333333,\"#9c179e\"],[0.4444444444444444,\"#bd3786\"],[0.5555555555555556,\"#d8576b\"],[0.6666666666666666,\"#ed7953\"],[0.7777777777777778,\"#fb9f3a\"],[0.8888888888888888,\"#fdca26\"],[1.0,\"#f0f921\"]],\"type\":\"heatmap\"}],\"heatmapgl\":[{\"colorbar\":{\"outlinewidth\":0,\"ticks\":\"\"},\"colorscale\":[[0.0,\"#0d0887\"],[0.1111111111111111,\"#46039f\"],[0.2222222222222222,\"#7201a8\"],[0.3333333333333333,\"#9c179e\"],[0.4444444444444444,\"#bd3786\"],[0.5555555555555556,\"#d8576b\"],[0.6666666666666666,\"#ed7953\"],[0.7777777777777778,\"#fb9f3a\"],[0.8888888888888888,\"#fdca26\"],[1.0,\"#f0f921\"]],\"type\":\"heatmapgl\"}],\"histogram\":[{\"marker\":{\"pattern\":{\"fillmode\":\"overlay\",\"size\":10,\"solidity\":0.2}},\"type\":\"histogram\"}],\"histogram2d\":[{\"colorbar\":{\"outlinewidth\":0,\"ticks\":\"\"},\"colorscale\":[[0.0,\"#0d0887\"],[0.1111111111111111,\"#46039f\"],[0.2222222222222222,\"#7201a8\"],[0.3333333333333333,\"#9c179e\"],[0.4444444444444444,\"#bd3786\"],[0.5555555555555556,\"#d8576b\"],[0.6666666666666666,\"#ed7953\"],[0.7777777777777778,\"#fb9f3a\"],[0.8888888888888888,\"#fdca26\"],[1.0,\"#f0f921\"]],\"type\":\"histogram2d\"}],\"histogram2dcontour\":[{\"colorbar\":{\"outlinewidth\":0,\"ticks\":\"\"},\"colorscale\":[[0.0,\"#0d0887\"],[0.1111111111111111,\"#46039f\"],[0.2222222222222222,\"#7201a8\"],[0.3333333333333333,\"#9c179e\"],[0.4444444444444444,\"#bd3786\"],[0.5555555555555556,\"#d8576b\"],[0.6666666666666666,\"#ed7953\"],[0.7777777777777778,\"#fb9f3a\"],[0.8888888888888888,\"#fdca26\"],[1.0,\"#f0f921\"]],\"type\":\"histogram2dcontour\"}],\"mesh3d\":[{\"colorbar\":{\"outlinewidth\":0,\"ticks\":\"\"},\"type\":\"mesh3d\"}],\"parcoords\":[{\"line\":{\"colorbar\":{\"outlinewidth\":0,\"ticks\":\"\"}},\"type\":\"parcoords\"}],\"pie\":[{\"automargin\":true,\"type\":\"pie\"}],\"scatter\":[{\"marker\":{\"colorbar\":{\"outlinewidth\":0,\"ticks\":\"\"}},\"type\":\"scatter\"}],\"scatter3d\":[{\"line\":{\"colorbar\":{\"outlinewidth\":0,\"ticks\":\"\"}},\"marker\":{\"colorbar\":{\"outlinewidth\":0,\"ticks\":\"\"}},\"type\":\"scatter3d\"}],\"scattercarpet\":[{\"marker\":{\"colorbar\":{\"outlinewidth\":0,\"ticks\":\"\"}},\"type\":\"scattercarpet\"}],\"scattergeo\":[{\"marker\":{\"colorbar\":{\"outlinewidth\":0,\"ticks\":\"\"}},\"type\":\"scattergeo\"}],\"scattergl\":[{\"marker\":{\"colorbar\":{\"outlinewidth\":0,\"ticks\":\"\"}},\"type\":\"scattergl\"}],\"scattermapbox\":[{\"marker\":{\"colorbar\":{\"outlinewidth\":0,\"ticks\":\"\"}},\"type\":\"scattermapbox\"}],\"scatterpolar\":[{\"marker\":{\"colorbar\":{\"outlinewidth\":0,\"ticks\":\"\"}},\"type\":\"scatterpolar\"}],\"scatterpolargl\":[{\"marker\":{\"colorbar\":{\"outlinewidth\":0,\"ticks\":\"\"}},\"type\":\"scatterpolargl\"}],\"scatterternary\":[{\"marker\":{\"colorbar\":{\"outlinewidth\":0,\"ticks\":\"\"}},\"type\":\"scatterternary\"}],\"surface\":[{\"colorbar\":{\"outlinewidth\":0,\"ticks\":\"\"},\"colorscale\":[[0.0,\"#0d0887\"],[0.1111111111111111,\"#46039f\"],[0.2222222222222222,\"#7201a8\"],[0.3333333333333333,\"#9c179e\"],[0.4444444444444444,\"#bd3786\"],[0.5555555555555556,\"#d8576b\"],[0.6666666666666666,\"#ed7953\"],[0.7777777777777778,\"#fb9f3a\"],[0.8888888888888888,\"#fdca26\"],[1.0,\"#f0f921\"]],\"type\":\"surface\"}],\"table\":[{\"cells\":{\"fill\":{\"color\":\"#EBF0F8\"},\"line\":{\"color\":\"white\"}},\"header\":{\"fill\":{\"color\":\"#C8D4E3\"},\"line\":{\"color\":\"white\"}},\"type\":\"table\"}]},\"layout\":{\"annotationdefaults\":{\"arrowcolor\":\"#2a3f5f\",\"arrowhead\":0,\"arrowwidth\":1},\"autotypenumbers\":\"strict\",\"coloraxis\":{\"colorbar\":{\"outlinewidth\":0,\"ticks\":\"\"}},\"colorscale\":{\"diverging\":[[0,\"#8e0152\"],[0.1,\"#c51b7d\"],[0.2,\"#de77ae\"],[0.3,\"#f1b6da\"],[0.4,\"#fde0ef\"],[0.5,\"#f7f7f7\"],[0.6,\"#e6f5d0\"],[0.7,\"#b8e186\"],[0.8,\"#7fbc41\"],[0.9,\"#4d9221\"],[1,\"#276419\"]],\"sequential\":[[0.0,\"#0d0887\"],[0.1111111111111111,\"#46039f\"],[0.2222222222222222,\"#7201a8\"],[0.3333333333333333,\"#9c179e\"],[0.4444444444444444,\"#bd3786\"],[0.5555555555555556,\"#d8576b\"],[0.6666666666666666,\"#ed7953\"],[0.7777777777777778,\"#fb9f3a\"],[0.8888888888888888,\"#fdca26\"],[1.0,\"#f0f921\"]],\"sequentialminus\":[[0.0,\"#0d0887\"],[0.1111111111111111,\"#46039f\"],[0.2222222222222222,\"#7201a8\"],[0.3333333333333333,\"#9c179e\"],[0.4444444444444444,\"#bd3786\"],[0.5555555555555556,\"#d8576b\"],[0.6666666666666666,\"#ed7953\"],[0.7777777777777778,\"#fb9f3a\"],[0.8888888888888888,\"#fdca26\"],[1.0,\"#f0f921\"]]},\"colorway\":[\"#636efa\",\"#EF553B\",\"#00cc96\",\"#ab63fa\",\"#FFA15A\",\"#19d3f3\",\"#FF6692\",\"#B6E880\",\"#FF97FF\",\"#FECB52\"],\"font\":{\"color\":\"#2a3f5f\"},\"geo\":{\"bgcolor\":\"white\",\"lakecolor\":\"white\",\"landcolor\":\"#E5ECF6\",\"showlakes\":true,\"showland\":true,\"subunitcolor\":\"white\"},\"hoverlabel\":{\"align\":\"left\"},\"hovermode\":\"closest\",\"mapbox\":{\"style\":\"light\"},\"paper_bgcolor\":\"white\",\"plot_bgcolor\":\"#E5ECF6\",\"polar\":{\"angularaxis\":{\"gridcolor\":\"white\",\"linecolor\":\"white\",\"ticks\":\"\"},\"bgcolor\":\"#E5ECF6\",\"radialaxis\":{\"gridcolor\":\"white\",\"linecolor\":\"white\",\"ticks\":\"\"}},\"scene\":{\"xaxis\":{\"backgroundcolor\":\"#E5ECF6\",\"gridcolor\":\"white\",\"gridwidth\":2,\"linecolor\":\"white\",\"showbackground\":true,\"ticks\":\"\",\"zerolinecolor\":\"white\"},\"yaxis\":{\"backgroundcolor\":\"#E5ECF6\",\"gridcolor\":\"white\",\"gridwidth\":2,\"linecolor\":\"white\",\"showbackground\":true,\"ticks\":\"\",\"zerolinecolor\":\"white\"},\"zaxis\":{\"backgroundcolor\":\"#E5ECF6\",\"gridcolor\":\"white\",\"gridwidth\":2,\"linecolor\":\"white\",\"showbackground\":true,\"ticks\":\"\",\"zerolinecolor\":\"white\"}},\"shapedefaults\":{\"line\":{\"color\":\"#2a3f5f\"}},\"ternary\":{\"aaxis\":{\"gridcolor\":\"white\",\"linecolor\":\"white\",\"ticks\":\"\"},\"baxis\":{\"gridcolor\":\"white\",\"linecolor\":\"white\",\"ticks\":\"\"},\"bgcolor\":\"#E5ECF6\",\"caxis\":{\"gridcolor\":\"white\",\"linecolor\":\"white\",\"ticks\":\"\"}},\"title\":{\"x\":0.05},\"xaxis\":{\"automargin\":true,\"gridcolor\":\"white\",\"linecolor\":\"white\",\"ticks\":\"\",\"title\":{\"standoff\":15},\"zerolinecolor\":\"white\",\"zerolinewidth\":2},\"yaxis\":{\"automargin\":true,\"gridcolor\":\"white\",\"linecolor\":\"white\",\"ticks\":\"\",\"title\":{\"standoff\":15},\"zerolinecolor\":\"white\",\"zerolinewidth\":2}}},\"title\":{\"text\":\"Portfolio Asset Allocation\"}},                        {\"responsive\": true}                    ).then(function(){\n",
       "                            \n",
       "var gd = document.getElementById('1ab27de6-3811-40d1-991f-51d9d9416784');\n",
       "var x = new MutationObserver(function (mutations, observer) {{\n",
       "        var display = window.getComputedStyle(gd).display;\n",
       "        if (!display || display === 'none') {{\n",
       "            console.log([gd, 'removed!']);\n",
       "            Plotly.purge(gd);\n",
       "            observer.disconnect();\n",
       "        }}\n",
       "}});\n",
       "\n",
       "// Listen for the removal of the full notebook cells\n",
       "var notebookContainer = gd.closest('#notebook-container');\n",
       "if (notebookContainer) {{\n",
       "    x.observe(notebookContainer, {childList: true});\n",
       "}}\n",
       "\n",
       "// Listen for the clearing of the current output cell\n",
       "var outputEl = gd.closest('.output');\n",
       "if (outputEl) {{\n",
       "    x.observe(outputEl, {childList: true});\n",
       "}}\n",
       "\n",
       "                        })                };                });            </script>        </div>"
      ]
     },
     "metadata": {},
     "output_type": "display_data"
    }
   ],
   "source": [
    "#Portfolio Asset Allocation. \n",
    "#w1=[0.22729172, 0.24745321, 0.19445849, 0.11291468, 0.21788191]\n",
    "allocation_pct =[0.1600351 , 0.08496445, 0.20925847, 0.23901886, 0.17930029, 0.12742284]\n",
    "\n",
    "\n",
    "fig = go.Figure(data=[go.Pie(labels=stock_names, values=allocation_pct)])\n",
    "fig.update_layout(title=\"Portfolio Asset Allocation\")\n",
    "fig.show()"
   ]
  },
  {
   "cell_type": "code",
   "execution_count": 180,
   "id": "d5057996",
   "metadata": {},
   "outputs": [],
   "source": [
    "cum_rets=pd.read_excel(\"/Users/chinmaythakre/Desktop/MF728 Fixed Income/Project/cum rets.xlsx\",index_col='Date')\n",
    "    \n",
    "                                                            "
   ]
  },
  {
   "cell_type": "code",
   "execution_count": 181,
   "id": "ba6682f2",
   "metadata": {},
   "outputs": [],
   "source": [
    "cum_rets=cum_rets.loc['2022-10-24':'2022-12-30']\n",
    "cum_rets = cum_rets.iloc[::-1]"
   ]
  },
  {
   "cell_type": "code",
   "execution_count": 182,
   "id": "a64fefbd",
   "metadata": {},
   "outputs": [
    {
     "data": {
      "text/html": [
       "<div>\n",
       "<style scoped>\n",
       "    .dataframe tbody tr th:only-of-type {\n",
       "        vertical-align: middle;\n",
       "    }\n",
       "\n",
       "    .dataframe tbody tr th {\n",
       "        vertical-align: top;\n",
       "    }\n",
       "\n",
       "    .dataframe thead th {\n",
       "        text-align: right;\n",
       "    }\n",
       "</style>\n",
       "<table border=\"1\" class=\"dataframe\">\n",
       "  <thead>\n",
       "    <tr style=\"text-align: right;\">\n",
       "      <th></th>\n",
       "      <th>1m1y</th>\n",
       "      <th>3m1y</th>\n",
       "      <th>1m2y</th>\n",
       "      <th>3m2y</th>\n",
       "      <th>1m5y</th>\n",
       "      <th>3m5y</th>\n",
       "    </tr>\n",
       "    <tr>\n",
       "      <th>Date</th>\n",
       "      <th></th>\n",
       "      <th></th>\n",
       "      <th></th>\n",
       "      <th></th>\n",
       "      <th></th>\n",
       "      <th></th>\n",
       "    </tr>\n",
       "  </thead>\n",
       "  <tbody>\n",
       "    <tr>\n",
       "      <th>2022-10-24</th>\n",
       "      <td>1.0</td>\n",
       "      <td>1.0</td>\n",
       "      <td>1.131795</td>\n",
       "      <td>1.134131</td>\n",
       "      <td>1.0</td>\n",
       "      <td>1.0</td>\n",
       "    </tr>\n",
       "    <tr>\n",
       "      <th>2022-10-25</th>\n",
       "      <td>1.0</td>\n",
       "      <td>1.0</td>\n",
       "      <td>1.131795</td>\n",
       "      <td>1.134131</td>\n",
       "      <td>1.0</td>\n",
       "      <td>1.0</td>\n",
       "    </tr>\n",
       "    <tr>\n",
       "      <th>2022-10-26</th>\n",
       "      <td>1.0</td>\n",
       "      <td>1.0</td>\n",
       "      <td>1.131795</td>\n",
       "      <td>1.134131</td>\n",
       "      <td>1.0</td>\n",
       "      <td>1.0</td>\n",
       "    </tr>\n",
       "    <tr>\n",
       "      <th>2022-10-27</th>\n",
       "      <td>1.0</td>\n",
       "      <td>1.0</td>\n",
       "      <td>1.131795</td>\n",
       "      <td>1.134131</td>\n",
       "      <td>1.0</td>\n",
       "      <td>1.0</td>\n",
       "    </tr>\n",
       "    <tr>\n",
       "      <th>2022-10-28</th>\n",
       "      <td>1.0</td>\n",
       "      <td>1.0</td>\n",
       "      <td>1.131795</td>\n",
       "      <td>1.134131</td>\n",
       "      <td>1.0</td>\n",
       "      <td>1.0</td>\n",
       "    </tr>\n",
       "    <tr>\n",
       "      <th>2022-10-31</th>\n",
       "      <td>1.0</td>\n",
       "      <td>1.0</td>\n",
       "      <td>1.131795</td>\n",
       "      <td>1.134131</td>\n",
       "      <td>1.0</td>\n",
       "      <td>1.0</td>\n",
       "    </tr>\n",
       "    <tr>\n",
       "      <th>2022-11-01</th>\n",
       "      <td>1.0</td>\n",
       "      <td>1.0</td>\n",
       "      <td>1.131795</td>\n",
       "      <td>1.134131</td>\n",
       "      <td>1.0</td>\n",
       "      <td>1.0</td>\n",
       "    </tr>\n",
       "    <tr>\n",
       "      <th>2022-11-02</th>\n",
       "      <td>1.0</td>\n",
       "      <td>1.0</td>\n",
       "      <td>1.131795</td>\n",
       "      <td>1.134131</td>\n",
       "      <td>1.0</td>\n",
       "      <td>1.0</td>\n",
       "    </tr>\n",
       "    <tr>\n",
       "      <th>2022-11-03</th>\n",
       "      <td>1.0</td>\n",
       "      <td>1.0</td>\n",
       "      <td>1.131795</td>\n",
       "      <td>1.134131</td>\n",
       "      <td>1.0</td>\n",
       "      <td>1.0</td>\n",
       "    </tr>\n",
       "    <tr>\n",
       "      <th>2022-11-04</th>\n",
       "      <td>1.0</td>\n",
       "      <td>1.0</td>\n",
       "      <td>1.131795</td>\n",
       "      <td>1.134131</td>\n",
       "      <td>1.0</td>\n",
       "      <td>1.0</td>\n",
       "    </tr>\n",
       "    <tr>\n",
       "      <th>2022-11-07</th>\n",
       "      <td>1.0</td>\n",
       "      <td>1.0</td>\n",
       "      <td>1.131795</td>\n",
       "      <td>1.134131</td>\n",
       "      <td>1.0</td>\n",
       "      <td>1.0</td>\n",
       "    </tr>\n",
       "    <tr>\n",
       "      <th>2022-11-08</th>\n",
       "      <td>1.0</td>\n",
       "      <td>1.0</td>\n",
       "      <td>1.131795</td>\n",
       "      <td>1.134131</td>\n",
       "      <td>1.0</td>\n",
       "      <td>1.0</td>\n",
       "    </tr>\n",
       "    <tr>\n",
       "      <th>2022-11-09</th>\n",
       "      <td>1.0</td>\n",
       "      <td>1.0</td>\n",
       "      <td>1.131795</td>\n",
       "      <td>1.134131</td>\n",
       "      <td>1.0</td>\n",
       "      <td>1.0</td>\n",
       "    </tr>\n",
       "    <tr>\n",
       "      <th>2022-11-10</th>\n",
       "      <td>1.0</td>\n",
       "      <td>1.0</td>\n",
       "      <td>1.131795</td>\n",
       "      <td>1.134131</td>\n",
       "      <td>1.0</td>\n",
       "      <td>1.0</td>\n",
       "    </tr>\n",
       "    <tr>\n",
       "      <th>2022-11-11</th>\n",
       "      <td>1.0</td>\n",
       "      <td>1.0</td>\n",
       "      <td>1.131795</td>\n",
       "      <td>1.134131</td>\n",
       "      <td>1.0</td>\n",
       "      <td>1.0</td>\n",
       "    </tr>\n",
       "    <tr>\n",
       "      <th>2022-11-14</th>\n",
       "      <td>1.0</td>\n",
       "      <td>1.0</td>\n",
       "      <td>1.131795</td>\n",
       "      <td>1.134131</td>\n",
       "      <td>1.0</td>\n",
       "      <td>1.0</td>\n",
       "    </tr>\n",
       "    <tr>\n",
       "      <th>2022-11-15</th>\n",
       "      <td>1.0</td>\n",
       "      <td>1.0</td>\n",
       "      <td>1.131795</td>\n",
       "      <td>1.134131</td>\n",
       "      <td>1.0</td>\n",
       "      <td>1.0</td>\n",
       "    </tr>\n",
       "    <tr>\n",
       "      <th>2022-11-16</th>\n",
       "      <td>1.0</td>\n",
       "      <td>1.0</td>\n",
       "      <td>1.131795</td>\n",
       "      <td>1.134131</td>\n",
       "      <td>1.0</td>\n",
       "      <td>1.0</td>\n",
       "    </tr>\n",
       "    <tr>\n",
       "      <th>2022-11-17</th>\n",
       "      <td>1.0</td>\n",
       "      <td>1.0</td>\n",
       "      <td>1.131795</td>\n",
       "      <td>1.134131</td>\n",
       "      <td>1.0</td>\n",
       "      <td>1.0</td>\n",
       "    </tr>\n",
       "    <tr>\n",
       "      <th>2022-11-18</th>\n",
       "      <td>1.0</td>\n",
       "      <td>1.0</td>\n",
       "      <td>1.131795</td>\n",
       "      <td>1.134131</td>\n",
       "      <td>1.0</td>\n",
       "      <td>1.0</td>\n",
       "    </tr>\n",
       "    <tr>\n",
       "      <th>2022-11-30</th>\n",
       "      <td>1.0</td>\n",
       "      <td>1.0</td>\n",
       "      <td>1.131795</td>\n",
       "      <td>1.134131</td>\n",
       "      <td>1.0</td>\n",
       "      <td>1.0</td>\n",
       "    </tr>\n",
       "    <tr>\n",
       "      <th>2022-12-01</th>\n",
       "      <td>1.0</td>\n",
       "      <td>1.0</td>\n",
       "      <td>1.131795</td>\n",
       "      <td>1.134131</td>\n",
       "      <td>1.0</td>\n",
       "      <td>1.0</td>\n",
       "    </tr>\n",
       "    <tr>\n",
       "      <th>2022-12-02</th>\n",
       "      <td>1.0</td>\n",
       "      <td>1.0</td>\n",
       "      <td>1.131795</td>\n",
       "      <td>1.134131</td>\n",
       "      <td>1.0</td>\n",
       "      <td>1.0</td>\n",
       "    </tr>\n",
       "    <tr>\n",
       "      <th>2022-12-05</th>\n",
       "      <td>1.0</td>\n",
       "      <td>1.0</td>\n",
       "      <td>1.131795</td>\n",
       "      <td>1.134131</td>\n",
       "      <td>1.0</td>\n",
       "      <td>1.0</td>\n",
       "    </tr>\n",
       "    <tr>\n",
       "      <th>2022-12-06</th>\n",
       "      <td>1.0</td>\n",
       "      <td>1.0</td>\n",
       "      <td>1.131795</td>\n",
       "      <td>1.134131</td>\n",
       "      <td>1.0</td>\n",
       "      <td>1.0</td>\n",
       "    </tr>\n",
       "    <tr>\n",
       "      <th>2022-12-07</th>\n",
       "      <td>1.0</td>\n",
       "      <td>1.0</td>\n",
       "      <td>1.131795</td>\n",
       "      <td>1.134131</td>\n",
       "      <td>1.0</td>\n",
       "      <td>1.0</td>\n",
       "    </tr>\n",
       "    <tr>\n",
       "      <th>2022-12-08</th>\n",
       "      <td>1.0</td>\n",
       "      <td>1.0</td>\n",
       "      <td>1.131795</td>\n",
       "      <td>1.134131</td>\n",
       "      <td>1.0</td>\n",
       "      <td>1.0</td>\n",
       "    </tr>\n",
       "    <tr>\n",
       "      <th>2022-12-09</th>\n",
       "      <td>1.0</td>\n",
       "      <td>1.0</td>\n",
       "      <td>1.131795</td>\n",
       "      <td>1.134131</td>\n",
       "      <td>1.0</td>\n",
       "      <td>1.0</td>\n",
       "    </tr>\n",
       "    <tr>\n",
       "      <th>2022-12-12</th>\n",
       "      <td>1.0</td>\n",
       "      <td>1.0</td>\n",
       "      <td>1.131795</td>\n",
       "      <td>1.134131</td>\n",
       "      <td>1.0</td>\n",
       "      <td>1.0</td>\n",
       "    </tr>\n",
       "    <tr>\n",
       "      <th>2022-12-13</th>\n",
       "      <td>1.0</td>\n",
       "      <td>1.0</td>\n",
       "      <td>1.131795</td>\n",
       "      <td>1.134131</td>\n",
       "      <td>1.0</td>\n",
       "      <td>1.0</td>\n",
       "    </tr>\n",
       "    <tr>\n",
       "      <th>2022-12-14</th>\n",
       "      <td>1.0</td>\n",
       "      <td>1.0</td>\n",
       "      <td>1.131795</td>\n",
       "      <td>1.134131</td>\n",
       "      <td>1.0</td>\n",
       "      <td>1.0</td>\n",
       "    </tr>\n",
       "    <tr>\n",
       "      <th>2022-12-15</th>\n",
       "      <td>1.0</td>\n",
       "      <td>1.0</td>\n",
       "      <td>1.131795</td>\n",
       "      <td>1.134131</td>\n",
       "      <td>1.0</td>\n",
       "      <td>1.0</td>\n",
       "    </tr>\n",
       "    <tr>\n",
       "      <th>2022-12-16</th>\n",
       "      <td>1.0</td>\n",
       "      <td>1.0</td>\n",
       "      <td>1.131795</td>\n",
       "      <td>1.134131</td>\n",
       "      <td>1.0</td>\n",
       "      <td>1.0</td>\n",
       "    </tr>\n",
       "    <tr>\n",
       "      <th>2022-12-19</th>\n",
       "      <td>1.0</td>\n",
       "      <td>1.0</td>\n",
       "      <td>1.131795</td>\n",
       "      <td>1.134131</td>\n",
       "      <td>1.0</td>\n",
       "      <td>1.0</td>\n",
       "    </tr>\n",
       "    <tr>\n",
       "      <th>2022-12-20</th>\n",
       "      <td>1.0</td>\n",
       "      <td>1.0</td>\n",
       "      <td>1.131795</td>\n",
       "      <td>1.134131</td>\n",
       "      <td>1.0</td>\n",
       "      <td>1.0</td>\n",
       "    </tr>\n",
       "    <tr>\n",
       "      <th>2022-12-21</th>\n",
       "      <td>1.0</td>\n",
       "      <td>1.0</td>\n",
       "      <td>1.131795</td>\n",
       "      <td>1.134131</td>\n",
       "      <td>1.0</td>\n",
       "      <td>1.0</td>\n",
       "    </tr>\n",
       "    <tr>\n",
       "      <th>2022-12-22</th>\n",
       "      <td>1.0</td>\n",
       "      <td>1.0</td>\n",
       "      <td>1.131795</td>\n",
       "      <td>1.134131</td>\n",
       "      <td>1.0</td>\n",
       "      <td>1.0</td>\n",
       "    </tr>\n",
       "    <tr>\n",
       "      <th>2022-12-23</th>\n",
       "      <td>1.0</td>\n",
       "      <td>1.0</td>\n",
       "      <td>1.131795</td>\n",
       "      <td>1.134131</td>\n",
       "      <td>1.0</td>\n",
       "      <td>1.0</td>\n",
       "    </tr>\n",
       "    <tr>\n",
       "      <th>2022-12-27</th>\n",
       "      <td>1.0</td>\n",
       "      <td>1.0</td>\n",
       "      <td>1.131795</td>\n",
       "      <td>1.134131</td>\n",
       "      <td>1.0</td>\n",
       "      <td>1.0</td>\n",
       "    </tr>\n",
       "    <tr>\n",
       "      <th>2022-12-28</th>\n",
       "      <td>1.0</td>\n",
       "      <td>1.0</td>\n",
       "      <td>1.131795</td>\n",
       "      <td>1.134131</td>\n",
       "      <td>1.0</td>\n",
       "      <td>1.0</td>\n",
       "    </tr>\n",
       "    <tr>\n",
       "      <th>2022-12-29</th>\n",
       "      <td>1.0</td>\n",
       "      <td>1.0</td>\n",
       "      <td>1.131795</td>\n",
       "      <td>1.134131</td>\n",
       "      <td>1.0</td>\n",
       "      <td>1.0</td>\n",
       "    </tr>\n",
       "  </tbody>\n",
       "</table>\n",
       "</div>"
      ],
      "text/plain": [
       "            1m1y  3m1y      1m2y      3m2y  1m5y  3m5y\n",
       "Date                                                  \n",
       "2022-10-24   1.0   1.0  1.131795  1.134131   1.0   1.0\n",
       "2022-10-25   1.0   1.0  1.131795  1.134131   1.0   1.0\n",
       "2022-10-26   1.0   1.0  1.131795  1.134131   1.0   1.0\n",
       "2022-10-27   1.0   1.0  1.131795  1.134131   1.0   1.0\n",
       "2022-10-28   1.0   1.0  1.131795  1.134131   1.0   1.0\n",
       "2022-10-31   1.0   1.0  1.131795  1.134131   1.0   1.0\n",
       "2022-11-01   1.0   1.0  1.131795  1.134131   1.0   1.0\n",
       "2022-11-02   1.0   1.0  1.131795  1.134131   1.0   1.0\n",
       "2022-11-03   1.0   1.0  1.131795  1.134131   1.0   1.0\n",
       "2022-11-04   1.0   1.0  1.131795  1.134131   1.0   1.0\n",
       "2022-11-07   1.0   1.0  1.131795  1.134131   1.0   1.0\n",
       "2022-11-08   1.0   1.0  1.131795  1.134131   1.0   1.0\n",
       "2022-11-09   1.0   1.0  1.131795  1.134131   1.0   1.0\n",
       "2022-11-10   1.0   1.0  1.131795  1.134131   1.0   1.0\n",
       "2022-11-11   1.0   1.0  1.131795  1.134131   1.0   1.0\n",
       "2022-11-14   1.0   1.0  1.131795  1.134131   1.0   1.0\n",
       "2022-11-15   1.0   1.0  1.131795  1.134131   1.0   1.0\n",
       "2022-11-16   1.0   1.0  1.131795  1.134131   1.0   1.0\n",
       "2022-11-17   1.0   1.0  1.131795  1.134131   1.0   1.0\n",
       "2022-11-18   1.0   1.0  1.131795  1.134131   1.0   1.0\n",
       "2022-11-30   1.0   1.0  1.131795  1.134131   1.0   1.0\n",
       "2022-12-01   1.0   1.0  1.131795  1.134131   1.0   1.0\n",
       "2022-12-02   1.0   1.0  1.131795  1.134131   1.0   1.0\n",
       "2022-12-05   1.0   1.0  1.131795  1.134131   1.0   1.0\n",
       "2022-12-06   1.0   1.0  1.131795  1.134131   1.0   1.0\n",
       "2022-12-07   1.0   1.0  1.131795  1.134131   1.0   1.0\n",
       "2022-12-08   1.0   1.0  1.131795  1.134131   1.0   1.0\n",
       "2022-12-09   1.0   1.0  1.131795  1.134131   1.0   1.0\n",
       "2022-12-12   1.0   1.0  1.131795  1.134131   1.0   1.0\n",
       "2022-12-13   1.0   1.0  1.131795  1.134131   1.0   1.0\n",
       "2022-12-14   1.0   1.0  1.131795  1.134131   1.0   1.0\n",
       "2022-12-15   1.0   1.0  1.131795  1.134131   1.0   1.0\n",
       "2022-12-16   1.0   1.0  1.131795  1.134131   1.0   1.0\n",
       "2022-12-19   1.0   1.0  1.131795  1.134131   1.0   1.0\n",
       "2022-12-20   1.0   1.0  1.131795  1.134131   1.0   1.0\n",
       "2022-12-21   1.0   1.0  1.131795  1.134131   1.0   1.0\n",
       "2022-12-22   1.0   1.0  1.131795  1.134131   1.0   1.0\n",
       "2022-12-23   1.0   1.0  1.131795  1.134131   1.0   1.0\n",
       "2022-12-27   1.0   1.0  1.131795  1.134131   1.0   1.0\n",
       "2022-12-28   1.0   1.0  1.131795  1.134131   1.0   1.0\n",
       "2022-12-29   1.0   1.0  1.131795  1.134131   1.0   1.0"
      ]
     },
     "execution_count": 182,
     "metadata": {},
     "output_type": "execute_result"
    }
   ],
   "source": [
    "cum_rets"
   ]
  },
  {
   "cell_type": "code",
   "execution_count": 183,
   "id": "16d47df8",
   "metadata": {},
   "outputs": [
    {
     "data": {
      "text/html": [
       "<div>\n",
       "<style scoped>\n",
       "    .dataframe tbody tr th:only-of-type {\n",
       "        vertical-align: middle;\n",
       "    }\n",
       "\n",
       "    .dataframe tbody tr th {\n",
       "        vertical-align: top;\n",
       "    }\n",
       "\n",
       "    .dataframe thead th {\n",
       "        text-align: right;\n",
       "    }\n",
       "</style>\n",
       "<table border=\"1\" class=\"dataframe\">\n",
       "  <thead>\n",
       "    <tr style=\"text-align: right;\">\n",
       "      <th></th>\n",
       "      <th>1m1y</th>\n",
       "      <th>3m1y</th>\n",
       "      <th>1m2y</th>\n",
       "      <th>3m2y</th>\n",
       "      <th>1m5y</th>\n",
       "      <th>3m5y</th>\n",
       "    </tr>\n",
       "  </thead>\n",
       "  <tbody>\n",
       "    <tr>\n",
       "      <th>0</th>\n",
       "      <td>1.0</td>\n",
       "      <td>1.0</td>\n",
       "      <td>1.131795</td>\n",
       "      <td>1.134131</td>\n",
       "      <td>1.0</td>\n",
       "      <td>1.0</td>\n",
       "    </tr>\n",
       "    <tr>\n",
       "      <th>1</th>\n",
       "      <td>1.0</td>\n",
       "      <td>1.0</td>\n",
       "      <td>1.131795</td>\n",
       "      <td>1.134131</td>\n",
       "      <td>1.0</td>\n",
       "      <td>1.0</td>\n",
       "    </tr>\n",
       "    <tr>\n",
       "      <th>2</th>\n",
       "      <td>1.0</td>\n",
       "      <td>1.0</td>\n",
       "      <td>1.131795</td>\n",
       "      <td>1.134131</td>\n",
       "      <td>1.0</td>\n",
       "      <td>1.0</td>\n",
       "    </tr>\n",
       "    <tr>\n",
       "      <th>3</th>\n",
       "      <td>1.0</td>\n",
       "      <td>1.0</td>\n",
       "      <td>1.131795</td>\n",
       "      <td>1.134131</td>\n",
       "      <td>1.0</td>\n",
       "      <td>1.0</td>\n",
       "    </tr>\n",
       "    <tr>\n",
       "      <th>4</th>\n",
       "      <td>1.0</td>\n",
       "      <td>1.0</td>\n",
       "      <td>1.131795</td>\n",
       "      <td>1.134131</td>\n",
       "      <td>1.0</td>\n",
       "      <td>1.0</td>\n",
       "    </tr>\n",
       "    <tr>\n",
       "      <th>5</th>\n",
       "      <td>1.0</td>\n",
       "      <td>1.0</td>\n",
       "      <td>1.131795</td>\n",
       "      <td>1.134131</td>\n",
       "      <td>1.0</td>\n",
       "      <td>1.0</td>\n",
       "    </tr>\n",
       "    <tr>\n",
       "      <th>6</th>\n",
       "      <td>1.0</td>\n",
       "      <td>1.0</td>\n",
       "      <td>1.131795</td>\n",
       "      <td>1.134131</td>\n",
       "      <td>1.0</td>\n",
       "      <td>1.0</td>\n",
       "    </tr>\n",
       "    <tr>\n",
       "      <th>7</th>\n",
       "      <td>1.0</td>\n",
       "      <td>1.0</td>\n",
       "      <td>1.131795</td>\n",
       "      <td>1.134131</td>\n",
       "      <td>1.0</td>\n",
       "      <td>1.0</td>\n",
       "    </tr>\n",
       "    <tr>\n",
       "      <th>8</th>\n",
       "      <td>1.0</td>\n",
       "      <td>1.0</td>\n",
       "      <td>1.131795</td>\n",
       "      <td>1.134131</td>\n",
       "      <td>1.0</td>\n",
       "      <td>1.0</td>\n",
       "    </tr>\n",
       "    <tr>\n",
       "      <th>9</th>\n",
       "      <td>1.0</td>\n",
       "      <td>1.0</td>\n",
       "      <td>1.131795</td>\n",
       "      <td>1.134131</td>\n",
       "      <td>1.0</td>\n",
       "      <td>1.0</td>\n",
       "    </tr>\n",
       "    <tr>\n",
       "      <th>10</th>\n",
       "      <td>1.0</td>\n",
       "      <td>1.0</td>\n",
       "      <td>1.131795</td>\n",
       "      <td>1.134131</td>\n",
       "      <td>1.0</td>\n",
       "      <td>1.0</td>\n",
       "    </tr>\n",
       "    <tr>\n",
       "      <th>11</th>\n",
       "      <td>1.0</td>\n",
       "      <td>1.0</td>\n",
       "      <td>1.131795</td>\n",
       "      <td>1.134131</td>\n",
       "      <td>1.0</td>\n",
       "      <td>1.0</td>\n",
       "    </tr>\n",
       "    <tr>\n",
       "      <th>12</th>\n",
       "      <td>1.0</td>\n",
       "      <td>1.0</td>\n",
       "      <td>1.131795</td>\n",
       "      <td>1.134131</td>\n",
       "      <td>1.0</td>\n",
       "      <td>1.0</td>\n",
       "    </tr>\n",
       "    <tr>\n",
       "      <th>13</th>\n",
       "      <td>1.0</td>\n",
       "      <td>1.0</td>\n",
       "      <td>1.131795</td>\n",
       "      <td>1.134131</td>\n",
       "      <td>1.0</td>\n",
       "      <td>1.0</td>\n",
       "    </tr>\n",
       "    <tr>\n",
       "      <th>14</th>\n",
       "      <td>1.0</td>\n",
       "      <td>1.0</td>\n",
       "      <td>1.131795</td>\n",
       "      <td>1.134131</td>\n",
       "      <td>1.0</td>\n",
       "      <td>1.0</td>\n",
       "    </tr>\n",
       "    <tr>\n",
       "      <th>15</th>\n",
       "      <td>1.0</td>\n",
       "      <td>1.0</td>\n",
       "      <td>1.131795</td>\n",
       "      <td>1.134131</td>\n",
       "      <td>1.0</td>\n",
       "      <td>1.0</td>\n",
       "    </tr>\n",
       "    <tr>\n",
       "      <th>16</th>\n",
       "      <td>1.0</td>\n",
       "      <td>1.0</td>\n",
       "      <td>1.131795</td>\n",
       "      <td>1.134131</td>\n",
       "      <td>1.0</td>\n",
       "      <td>1.0</td>\n",
       "    </tr>\n",
       "    <tr>\n",
       "      <th>17</th>\n",
       "      <td>1.0</td>\n",
       "      <td>1.0</td>\n",
       "      <td>1.131795</td>\n",
       "      <td>1.134131</td>\n",
       "      <td>1.0</td>\n",
       "      <td>1.0</td>\n",
       "    </tr>\n",
       "    <tr>\n",
       "      <th>18</th>\n",
       "      <td>1.0</td>\n",
       "      <td>1.0</td>\n",
       "      <td>1.131795</td>\n",
       "      <td>1.134131</td>\n",
       "      <td>1.0</td>\n",
       "      <td>1.0</td>\n",
       "    </tr>\n",
       "    <tr>\n",
       "      <th>19</th>\n",
       "      <td>1.0</td>\n",
       "      <td>1.0</td>\n",
       "      <td>1.131795</td>\n",
       "      <td>1.134131</td>\n",
       "      <td>1.0</td>\n",
       "      <td>1.0</td>\n",
       "    </tr>\n",
       "    <tr>\n",
       "      <th>20</th>\n",
       "      <td>1.0</td>\n",
       "      <td>1.0</td>\n",
       "      <td>1.131795</td>\n",
       "      <td>1.134131</td>\n",
       "      <td>1.0</td>\n",
       "      <td>1.0</td>\n",
       "    </tr>\n",
       "    <tr>\n",
       "      <th>21</th>\n",
       "      <td>1.0</td>\n",
       "      <td>1.0</td>\n",
       "      <td>1.131795</td>\n",
       "      <td>1.134131</td>\n",
       "      <td>1.0</td>\n",
       "      <td>1.0</td>\n",
       "    </tr>\n",
       "    <tr>\n",
       "      <th>22</th>\n",
       "      <td>1.0</td>\n",
       "      <td>1.0</td>\n",
       "      <td>1.131795</td>\n",
       "      <td>1.134131</td>\n",
       "      <td>1.0</td>\n",
       "      <td>1.0</td>\n",
       "    </tr>\n",
       "    <tr>\n",
       "      <th>23</th>\n",
       "      <td>1.0</td>\n",
       "      <td>1.0</td>\n",
       "      <td>1.131795</td>\n",
       "      <td>1.134131</td>\n",
       "      <td>1.0</td>\n",
       "      <td>1.0</td>\n",
       "    </tr>\n",
       "    <tr>\n",
       "      <th>24</th>\n",
       "      <td>1.0</td>\n",
       "      <td>1.0</td>\n",
       "      <td>1.131795</td>\n",
       "      <td>1.134131</td>\n",
       "      <td>1.0</td>\n",
       "      <td>1.0</td>\n",
       "    </tr>\n",
       "    <tr>\n",
       "      <th>25</th>\n",
       "      <td>1.0</td>\n",
       "      <td>1.0</td>\n",
       "      <td>1.131795</td>\n",
       "      <td>1.134131</td>\n",
       "      <td>1.0</td>\n",
       "      <td>1.0</td>\n",
       "    </tr>\n",
       "    <tr>\n",
       "      <th>26</th>\n",
       "      <td>1.0</td>\n",
       "      <td>1.0</td>\n",
       "      <td>1.131795</td>\n",
       "      <td>1.134131</td>\n",
       "      <td>1.0</td>\n",
       "      <td>1.0</td>\n",
       "    </tr>\n",
       "    <tr>\n",
       "      <th>27</th>\n",
       "      <td>1.0</td>\n",
       "      <td>1.0</td>\n",
       "      <td>1.131795</td>\n",
       "      <td>1.134131</td>\n",
       "      <td>1.0</td>\n",
       "      <td>1.0</td>\n",
       "    </tr>\n",
       "    <tr>\n",
       "      <th>28</th>\n",
       "      <td>1.0</td>\n",
       "      <td>1.0</td>\n",
       "      <td>1.131795</td>\n",
       "      <td>1.134131</td>\n",
       "      <td>1.0</td>\n",
       "      <td>1.0</td>\n",
       "    </tr>\n",
       "    <tr>\n",
       "      <th>29</th>\n",
       "      <td>1.0</td>\n",
       "      <td>1.0</td>\n",
       "      <td>1.131795</td>\n",
       "      <td>1.134131</td>\n",
       "      <td>1.0</td>\n",
       "      <td>1.0</td>\n",
       "    </tr>\n",
       "    <tr>\n",
       "      <th>30</th>\n",
       "      <td>1.0</td>\n",
       "      <td>1.0</td>\n",
       "      <td>1.131795</td>\n",
       "      <td>1.134131</td>\n",
       "      <td>1.0</td>\n",
       "      <td>1.0</td>\n",
       "    </tr>\n",
       "    <tr>\n",
       "      <th>31</th>\n",
       "      <td>1.0</td>\n",
       "      <td>1.0</td>\n",
       "      <td>1.131795</td>\n",
       "      <td>1.134131</td>\n",
       "      <td>1.0</td>\n",
       "      <td>1.0</td>\n",
       "    </tr>\n",
       "    <tr>\n",
       "      <th>32</th>\n",
       "      <td>1.0</td>\n",
       "      <td>1.0</td>\n",
       "      <td>1.131795</td>\n",
       "      <td>1.134131</td>\n",
       "      <td>1.0</td>\n",
       "      <td>1.0</td>\n",
       "    </tr>\n",
       "    <tr>\n",
       "      <th>33</th>\n",
       "      <td>1.0</td>\n",
       "      <td>1.0</td>\n",
       "      <td>1.131795</td>\n",
       "      <td>1.134131</td>\n",
       "      <td>1.0</td>\n",
       "      <td>1.0</td>\n",
       "    </tr>\n",
       "    <tr>\n",
       "      <th>34</th>\n",
       "      <td>1.0</td>\n",
       "      <td>1.0</td>\n",
       "      <td>1.131795</td>\n",
       "      <td>1.134131</td>\n",
       "      <td>1.0</td>\n",
       "      <td>1.0</td>\n",
       "    </tr>\n",
       "    <tr>\n",
       "      <th>35</th>\n",
       "      <td>1.0</td>\n",
       "      <td>1.0</td>\n",
       "      <td>1.131795</td>\n",
       "      <td>1.134131</td>\n",
       "      <td>1.0</td>\n",
       "      <td>1.0</td>\n",
       "    </tr>\n",
       "    <tr>\n",
       "      <th>36</th>\n",
       "      <td>1.0</td>\n",
       "      <td>1.0</td>\n",
       "      <td>1.131795</td>\n",
       "      <td>1.134131</td>\n",
       "      <td>1.0</td>\n",
       "      <td>1.0</td>\n",
       "    </tr>\n",
       "    <tr>\n",
       "      <th>37</th>\n",
       "      <td>1.0</td>\n",
       "      <td>1.0</td>\n",
       "      <td>1.131795</td>\n",
       "      <td>1.134131</td>\n",
       "      <td>1.0</td>\n",
       "      <td>1.0</td>\n",
       "    </tr>\n",
       "    <tr>\n",
       "      <th>38</th>\n",
       "      <td>1.0</td>\n",
       "      <td>1.0</td>\n",
       "      <td>1.131795</td>\n",
       "      <td>1.134131</td>\n",
       "      <td>1.0</td>\n",
       "      <td>1.0</td>\n",
       "    </tr>\n",
       "    <tr>\n",
       "      <th>39</th>\n",
       "      <td>1.0</td>\n",
       "      <td>1.0</td>\n",
       "      <td>1.131795</td>\n",
       "      <td>1.134131</td>\n",
       "      <td>1.0</td>\n",
       "      <td>1.0</td>\n",
       "    </tr>\n",
       "    <tr>\n",
       "      <th>40</th>\n",
       "      <td>1.0</td>\n",
       "      <td>1.0</td>\n",
       "      <td>1.131795</td>\n",
       "      <td>1.134131</td>\n",
       "      <td>1.0</td>\n",
       "      <td>1.0</td>\n",
       "    </tr>\n",
       "  </tbody>\n",
       "</table>\n",
       "</div>"
      ],
      "text/plain": [
       "    1m1y  3m1y      1m2y      3m2y  1m5y  3m5y\n",
       "0    1.0   1.0  1.131795  1.134131   1.0   1.0\n",
       "1    1.0   1.0  1.131795  1.134131   1.0   1.0\n",
       "2    1.0   1.0  1.131795  1.134131   1.0   1.0\n",
       "3    1.0   1.0  1.131795  1.134131   1.0   1.0\n",
       "4    1.0   1.0  1.131795  1.134131   1.0   1.0\n",
       "5    1.0   1.0  1.131795  1.134131   1.0   1.0\n",
       "6    1.0   1.0  1.131795  1.134131   1.0   1.0\n",
       "7    1.0   1.0  1.131795  1.134131   1.0   1.0\n",
       "8    1.0   1.0  1.131795  1.134131   1.0   1.0\n",
       "9    1.0   1.0  1.131795  1.134131   1.0   1.0\n",
       "10   1.0   1.0  1.131795  1.134131   1.0   1.0\n",
       "11   1.0   1.0  1.131795  1.134131   1.0   1.0\n",
       "12   1.0   1.0  1.131795  1.134131   1.0   1.0\n",
       "13   1.0   1.0  1.131795  1.134131   1.0   1.0\n",
       "14   1.0   1.0  1.131795  1.134131   1.0   1.0\n",
       "15   1.0   1.0  1.131795  1.134131   1.0   1.0\n",
       "16   1.0   1.0  1.131795  1.134131   1.0   1.0\n",
       "17   1.0   1.0  1.131795  1.134131   1.0   1.0\n",
       "18   1.0   1.0  1.131795  1.134131   1.0   1.0\n",
       "19   1.0   1.0  1.131795  1.134131   1.0   1.0\n",
       "20   1.0   1.0  1.131795  1.134131   1.0   1.0\n",
       "21   1.0   1.0  1.131795  1.134131   1.0   1.0\n",
       "22   1.0   1.0  1.131795  1.134131   1.0   1.0\n",
       "23   1.0   1.0  1.131795  1.134131   1.0   1.0\n",
       "24   1.0   1.0  1.131795  1.134131   1.0   1.0\n",
       "25   1.0   1.0  1.131795  1.134131   1.0   1.0\n",
       "26   1.0   1.0  1.131795  1.134131   1.0   1.0\n",
       "27   1.0   1.0  1.131795  1.134131   1.0   1.0\n",
       "28   1.0   1.0  1.131795  1.134131   1.0   1.0\n",
       "29   1.0   1.0  1.131795  1.134131   1.0   1.0\n",
       "30   1.0   1.0  1.131795  1.134131   1.0   1.0\n",
       "31   1.0   1.0  1.131795  1.134131   1.0   1.0\n",
       "32   1.0   1.0  1.131795  1.134131   1.0   1.0\n",
       "33   1.0   1.0  1.131795  1.134131   1.0   1.0\n",
       "34   1.0   1.0  1.131795  1.134131   1.0   1.0\n",
       "35   1.0   1.0  1.131795  1.134131   1.0   1.0\n",
       "36   1.0   1.0  1.131795  1.134131   1.0   1.0\n",
       "37   1.0   1.0  1.131795  1.134131   1.0   1.0\n",
       "38   1.0   1.0  1.131795  1.134131   1.0   1.0\n",
       "39   1.0   1.0  1.131795  1.134131   1.0   1.0\n",
       "40   1.0   1.0  1.131795  1.134131   1.0   1.0"
      ]
     },
     "execution_count": 183,
     "metadata": {},
     "output_type": "execute_result"
    }
   ],
   "source": [
    "cum_rets.reset_index(drop=True)"
   ]
  },
  {
   "cell_type": "code",
   "execution_count": 184,
   "id": "9294d8cb",
   "metadata": {},
   "outputs": [
    {
     "data": {
      "text/html": [
       "<div>\n",
       "<style scoped>\n",
       "    .dataframe tbody tr th:only-of-type {\n",
       "        vertical-align: middle;\n",
       "    }\n",
       "\n",
       "    .dataframe tbody tr th {\n",
       "        vertical-align: top;\n",
       "    }\n",
       "\n",
       "    .dataframe thead th {\n",
       "        text-align: right;\n",
       "    }\n",
       "</style>\n",
       "<table border=\"1\" class=\"dataframe\">\n",
       "  <thead>\n",
       "    <tr style=\"text-align: right;\">\n",
       "      <th></th>\n",
       "      <th>1m1y</th>\n",
       "      <th>3m1y</th>\n",
       "      <th>1m2y</th>\n",
       "      <th>3m2y</th>\n",
       "      <th>1m5y</th>\n",
       "      <th>3m5y</th>\n",
       "    </tr>\n",
       "    <tr>\n",
       "      <th>Date</th>\n",
       "      <th></th>\n",
       "      <th></th>\n",
       "      <th></th>\n",
       "      <th></th>\n",
       "      <th></th>\n",
       "      <th></th>\n",
       "    </tr>\n",
       "  </thead>\n",
       "  <tbody>\n",
       "    <tr>\n",
       "      <th>2022-10-24</th>\n",
       "      <td>2.024754</td>\n",
       "      <td>1.074965</td>\n",
       "      <td>2.996455</td>\n",
       "      <td>3.429671</td>\n",
       "      <td>2.268496</td>\n",
       "      <td>1.612146</td>\n",
       "    </tr>\n",
       "    <tr>\n",
       "      <th>2022-10-25</th>\n",
       "      <td>2.024754</td>\n",
       "      <td>1.074965</td>\n",
       "      <td>2.996455</td>\n",
       "      <td>3.429671</td>\n",
       "      <td>2.268496</td>\n",
       "      <td>1.612146</td>\n",
       "    </tr>\n",
       "    <tr>\n",
       "      <th>2022-10-26</th>\n",
       "      <td>2.024754</td>\n",
       "      <td>1.074965</td>\n",
       "      <td>2.996455</td>\n",
       "      <td>3.429671</td>\n",
       "      <td>2.268496</td>\n",
       "      <td>1.612146</td>\n",
       "    </tr>\n",
       "    <tr>\n",
       "      <th>2022-10-27</th>\n",
       "      <td>2.024754</td>\n",
       "      <td>1.074965</td>\n",
       "      <td>2.996455</td>\n",
       "      <td>3.429671</td>\n",
       "      <td>2.268496</td>\n",
       "      <td>1.612146</td>\n",
       "    </tr>\n",
       "    <tr>\n",
       "      <th>2022-10-28</th>\n",
       "      <td>2.024754</td>\n",
       "      <td>1.074965</td>\n",
       "      <td>2.996455</td>\n",
       "      <td>3.429671</td>\n",
       "      <td>2.268496</td>\n",
       "      <td>1.612146</td>\n",
       "    </tr>\n",
       "    <tr>\n",
       "      <th>2022-10-31</th>\n",
       "      <td>2.024754</td>\n",
       "      <td>1.074965</td>\n",
       "      <td>2.996455</td>\n",
       "      <td>3.429671</td>\n",
       "      <td>2.268496</td>\n",
       "      <td>1.612146</td>\n",
       "    </tr>\n",
       "    <tr>\n",
       "      <th>2022-11-01</th>\n",
       "      <td>2.024754</td>\n",
       "      <td>1.074965</td>\n",
       "      <td>2.996455</td>\n",
       "      <td>3.429671</td>\n",
       "      <td>2.268496</td>\n",
       "      <td>1.612146</td>\n",
       "    </tr>\n",
       "    <tr>\n",
       "      <th>2022-11-02</th>\n",
       "      <td>2.024754</td>\n",
       "      <td>1.074965</td>\n",
       "      <td>2.996455</td>\n",
       "      <td>3.429671</td>\n",
       "      <td>2.268496</td>\n",
       "      <td>1.612146</td>\n",
       "    </tr>\n",
       "    <tr>\n",
       "      <th>2022-11-03</th>\n",
       "      <td>2.024754</td>\n",
       "      <td>1.074965</td>\n",
       "      <td>2.996455</td>\n",
       "      <td>3.429671</td>\n",
       "      <td>2.268496</td>\n",
       "      <td>1.612146</td>\n",
       "    </tr>\n",
       "    <tr>\n",
       "      <th>2022-11-04</th>\n",
       "      <td>2.024754</td>\n",
       "      <td>1.074965</td>\n",
       "      <td>2.996455</td>\n",
       "      <td>3.429671</td>\n",
       "      <td>2.268496</td>\n",
       "      <td>1.612146</td>\n",
       "    </tr>\n",
       "    <tr>\n",
       "      <th>2022-11-07</th>\n",
       "      <td>2.024754</td>\n",
       "      <td>1.074965</td>\n",
       "      <td>2.996455</td>\n",
       "      <td>3.429671</td>\n",
       "      <td>2.268496</td>\n",
       "      <td>1.612146</td>\n",
       "    </tr>\n",
       "    <tr>\n",
       "      <th>2022-11-08</th>\n",
       "      <td>2.024754</td>\n",
       "      <td>1.074965</td>\n",
       "      <td>2.996455</td>\n",
       "      <td>3.429671</td>\n",
       "      <td>2.268496</td>\n",
       "      <td>1.612146</td>\n",
       "    </tr>\n",
       "    <tr>\n",
       "      <th>2022-11-09</th>\n",
       "      <td>2.024754</td>\n",
       "      <td>1.074965</td>\n",
       "      <td>2.996455</td>\n",
       "      <td>3.429671</td>\n",
       "      <td>2.268496</td>\n",
       "      <td>1.612146</td>\n",
       "    </tr>\n",
       "    <tr>\n",
       "      <th>2022-11-10</th>\n",
       "      <td>2.024754</td>\n",
       "      <td>1.074965</td>\n",
       "      <td>2.996455</td>\n",
       "      <td>3.429671</td>\n",
       "      <td>2.268496</td>\n",
       "      <td>1.612146</td>\n",
       "    </tr>\n",
       "    <tr>\n",
       "      <th>2022-11-11</th>\n",
       "      <td>2.024754</td>\n",
       "      <td>1.074965</td>\n",
       "      <td>2.996455</td>\n",
       "      <td>3.429671</td>\n",
       "      <td>2.268496</td>\n",
       "      <td>1.612146</td>\n",
       "    </tr>\n",
       "    <tr>\n",
       "      <th>2022-11-14</th>\n",
       "      <td>2.024754</td>\n",
       "      <td>1.074965</td>\n",
       "      <td>2.996455</td>\n",
       "      <td>3.429671</td>\n",
       "      <td>2.268496</td>\n",
       "      <td>1.612146</td>\n",
       "    </tr>\n",
       "    <tr>\n",
       "      <th>2022-11-15</th>\n",
       "      <td>2.024754</td>\n",
       "      <td>1.074965</td>\n",
       "      <td>2.996455</td>\n",
       "      <td>3.429671</td>\n",
       "      <td>2.268496</td>\n",
       "      <td>1.612146</td>\n",
       "    </tr>\n",
       "    <tr>\n",
       "      <th>2022-11-16</th>\n",
       "      <td>2.024754</td>\n",
       "      <td>1.074965</td>\n",
       "      <td>2.996455</td>\n",
       "      <td>3.429671</td>\n",
       "      <td>2.268496</td>\n",
       "      <td>1.612146</td>\n",
       "    </tr>\n",
       "    <tr>\n",
       "      <th>2022-11-17</th>\n",
       "      <td>2.024754</td>\n",
       "      <td>1.074965</td>\n",
       "      <td>2.996455</td>\n",
       "      <td>3.429671</td>\n",
       "      <td>2.268496</td>\n",
       "      <td>1.612146</td>\n",
       "    </tr>\n",
       "    <tr>\n",
       "      <th>2022-11-18</th>\n",
       "      <td>2.024754</td>\n",
       "      <td>1.074965</td>\n",
       "      <td>2.996455</td>\n",
       "      <td>3.429671</td>\n",
       "      <td>2.268496</td>\n",
       "      <td>1.612146</td>\n",
       "    </tr>\n",
       "    <tr>\n",
       "      <th>2022-11-30</th>\n",
       "      <td>2.024754</td>\n",
       "      <td>1.074965</td>\n",
       "      <td>2.996455</td>\n",
       "      <td>3.429671</td>\n",
       "      <td>2.268496</td>\n",
       "      <td>1.612146</td>\n",
       "    </tr>\n",
       "    <tr>\n",
       "      <th>2022-12-01</th>\n",
       "      <td>2.024754</td>\n",
       "      <td>1.074965</td>\n",
       "      <td>2.996455</td>\n",
       "      <td>3.429671</td>\n",
       "      <td>2.268496</td>\n",
       "      <td>1.612146</td>\n",
       "    </tr>\n",
       "    <tr>\n",
       "      <th>2022-12-02</th>\n",
       "      <td>2.024754</td>\n",
       "      <td>1.074965</td>\n",
       "      <td>2.996455</td>\n",
       "      <td>3.429671</td>\n",
       "      <td>2.268496</td>\n",
       "      <td>1.612146</td>\n",
       "    </tr>\n",
       "    <tr>\n",
       "      <th>2022-12-05</th>\n",
       "      <td>2.024754</td>\n",
       "      <td>1.074965</td>\n",
       "      <td>2.996455</td>\n",
       "      <td>3.429671</td>\n",
       "      <td>2.268496</td>\n",
       "      <td>1.612146</td>\n",
       "    </tr>\n",
       "    <tr>\n",
       "      <th>2022-12-06</th>\n",
       "      <td>2.024754</td>\n",
       "      <td>1.074965</td>\n",
       "      <td>2.996455</td>\n",
       "      <td>3.429671</td>\n",
       "      <td>2.268496</td>\n",
       "      <td>1.612146</td>\n",
       "    </tr>\n",
       "    <tr>\n",
       "      <th>2022-12-07</th>\n",
       "      <td>2.024754</td>\n",
       "      <td>1.074965</td>\n",
       "      <td>2.996455</td>\n",
       "      <td>3.429671</td>\n",
       "      <td>2.268496</td>\n",
       "      <td>1.612146</td>\n",
       "    </tr>\n",
       "    <tr>\n",
       "      <th>2022-12-08</th>\n",
       "      <td>2.024754</td>\n",
       "      <td>1.074965</td>\n",
       "      <td>2.996455</td>\n",
       "      <td>3.429671</td>\n",
       "      <td>2.268496</td>\n",
       "      <td>1.612146</td>\n",
       "    </tr>\n",
       "    <tr>\n",
       "      <th>2022-12-09</th>\n",
       "      <td>2.024754</td>\n",
       "      <td>1.074965</td>\n",
       "      <td>2.996455</td>\n",
       "      <td>3.429671</td>\n",
       "      <td>2.268496</td>\n",
       "      <td>1.612146</td>\n",
       "    </tr>\n",
       "    <tr>\n",
       "      <th>2022-12-12</th>\n",
       "      <td>2.024754</td>\n",
       "      <td>1.074965</td>\n",
       "      <td>2.996455</td>\n",
       "      <td>3.429671</td>\n",
       "      <td>2.268496</td>\n",
       "      <td>1.612146</td>\n",
       "    </tr>\n",
       "    <tr>\n",
       "      <th>2022-12-13</th>\n",
       "      <td>2.024754</td>\n",
       "      <td>1.074965</td>\n",
       "      <td>2.996455</td>\n",
       "      <td>3.429671</td>\n",
       "      <td>2.268496</td>\n",
       "      <td>1.612146</td>\n",
       "    </tr>\n",
       "    <tr>\n",
       "      <th>2022-12-14</th>\n",
       "      <td>2.024754</td>\n",
       "      <td>1.074965</td>\n",
       "      <td>2.996455</td>\n",
       "      <td>3.429671</td>\n",
       "      <td>2.268496</td>\n",
       "      <td>1.612146</td>\n",
       "    </tr>\n",
       "    <tr>\n",
       "      <th>2022-12-15</th>\n",
       "      <td>2.024754</td>\n",
       "      <td>1.074965</td>\n",
       "      <td>2.996455</td>\n",
       "      <td>3.429671</td>\n",
       "      <td>2.268496</td>\n",
       "      <td>1.612146</td>\n",
       "    </tr>\n",
       "    <tr>\n",
       "      <th>2022-12-16</th>\n",
       "      <td>2.024754</td>\n",
       "      <td>1.074965</td>\n",
       "      <td>2.996455</td>\n",
       "      <td>3.429671</td>\n",
       "      <td>2.268496</td>\n",
       "      <td>1.612146</td>\n",
       "    </tr>\n",
       "    <tr>\n",
       "      <th>2022-12-19</th>\n",
       "      <td>2.024754</td>\n",
       "      <td>1.074965</td>\n",
       "      <td>2.996455</td>\n",
       "      <td>3.429671</td>\n",
       "      <td>2.268496</td>\n",
       "      <td>1.612146</td>\n",
       "    </tr>\n",
       "    <tr>\n",
       "      <th>2022-12-20</th>\n",
       "      <td>2.024754</td>\n",
       "      <td>1.074965</td>\n",
       "      <td>2.996455</td>\n",
       "      <td>3.429671</td>\n",
       "      <td>2.268496</td>\n",
       "      <td>1.612146</td>\n",
       "    </tr>\n",
       "    <tr>\n",
       "      <th>2022-12-21</th>\n",
       "      <td>2.024754</td>\n",
       "      <td>1.074965</td>\n",
       "      <td>2.996455</td>\n",
       "      <td>3.429671</td>\n",
       "      <td>2.268496</td>\n",
       "      <td>1.612146</td>\n",
       "    </tr>\n",
       "    <tr>\n",
       "      <th>2022-12-22</th>\n",
       "      <td>2.024754</td>\n",
       "      <td>1.074965</td>\n",
       "      <td>2.996455</td>\n",
       "      <td>3.429671</td>\n",
       "      <td>2.268496</td>\n",
       "      <td>1.612146</td>\n",
       "    </tr>\n",
       "    <tr>\n",
       "      <th>2022-12-23</th>\n",
       "      <td>2.024754</td>\n",
       "      <td>1.074965</td>\n",
       "      <td>2.996455</td>\n",
       "      <td>3.429671</td>\n",
       "      <td>2.268496</td>\n",
       "      <td>1.612146</td>\n",
       "    </tr>\n",
       "    <tr>\n",
       "      <th>2022-12-27</th>\n",
       "      <td>2.024754</td>\n",
       "      <td>1.074965</td>\n",
       "      <td>2.996455</td>\n",
       "      <td>3.429671</td>\n",
       "      <td>2.268496</td>\n",
       "      <td>1.612146</td>\n",
       "    </tr>\n",
       "    <tr>\n",
       "      <th>2022-12-28</th>\n",
       "      <td>2.024754</td>\n",
       "      <td>1.074965</td>\n",
       "      <td>2.996455</td>\n",
       "      <td>3.429671</td>\n",
       "      <td>2.268496</td>\n",
       "      <td>1.612146</td>\n",
       "    </tr>\n",
       "    <tr>\n",
       "      <th>2022-12-29</th>\n",
       "      <td>2.024754</td>\n",
       "      <td>1.074965</td>\n",
       "      <td>2.996455</td>\n",
       "      <td>3.429671</td>\n",
       "      <td>2.268496</td>\n",
       "      <td>1.612146</td>\n",
       "    </tr>\n",
       "  </tbody>\n",
       "</table>\n",
       "</div>"
      ],
      "text/plain": [
       "                1m1y      3m1y      1m2y      3m2y      1m5y      3m5y\n",
       "Date                                                                  \n",
       "2022-10-24  2.024754  1.074965  2.996455  3.429671  2.268496  1.612146\n",
       "2022-10-25  2.024754  1.074965  2.996455  3.429671  2.268496  1.612146\n",
       "2022-10-26  2.024754  1.074965  2.996455  3.429671  2.268496  1.612146\n",
       "2022-10-27  2.024754  1.074965  2.996455  3.429671  2.268496  1.612146\n",
       "2022-10-28  2.024754  1.074965  2.996455  3.429671  2.268496  1.612146\n",
       "2022-10-31  2.024754  1.074965  2.996455  3.429671  2.268496  1.612146\n",
       "2022-11-01  2.024754  1.074965  2.996455  3.429671  2.268496  1.612146\n",
       "2022-11-02  2.024754  1.074965  2.996455  3.429671  2.268496  1.612146\n",
       "2022-11-03  2.024754  1.074965  2.996455  3.429671  2.268496  1.612146\n",
       "2022-11-04  2.024754  1.074965  2.996455  3.429671  2.268496  1.612146\n",
       "2022-11-07  2.024754  1.074965  2.996455  3.429671  2.268496  1.612146\n",
       "2022-11-08  2.024754  1.074965  2.996455  3.429671  2.268496  1.612146\n",
       "2022-11-09  2.024754  1.074965  2.996455  3.429671  2.268496  1.612146\n",
       "2022-11-10  2.024754  1.074965  2.996455  3.429671  2.268496  1.612146\n",
       "2022-11-11  2.024754  1.074965  2.996455  3.429671  2.268496  1.612146\n",
       "2022-11-14  2.024754  1.074965  2.996455  3.429671  2.268496  1.612146\n",
       "2022-11-15  2.024754  1.074965  2.996455  3.429671  2.268496  1.612146\n",
       "2022-11-16  2.024754  1.074965  2.996455  3.429671  2.268496  1.612146\n",
       "2022-11-17  2.024754  1.074965  2.996455  3.429671  2.268496  1.612146\n",
       "2022-11-18  2.024754  1.074965  2.996455  3.429671  2.268496  1.612146\n",
       "2022-11-30  2.024754  1.074965  2.996455  3.429671  2.268496  1.612146\n",
       "2022-12-01  2.024754  1.074965  2.996455  3.429671  2.268496  1.612146\n",
       "2022-12-02  2.024754  1.074965  2.996455  3.429671  2.268496  1.612146\n",
       "2022-12-05  2.024754  1.074965  2.996455  3.429671  2.268496  1.612146\n",
       "2022-12-06  2.024754  1.074965  2.996455  3.429671  2.268496  1.612146\n",
       "2022-12-07  2.024754  1.074965  2.996455  3.429671  2.268496  1.612146\n",
       "2022-12-08  2.024754  1.074965  2.996455  3.429671  2.268496  1.612146\n",
       "2022-12-09  2.024754  1.074965  2.996455  3.429671  2.268496  1.612146\n",
       "2022-12-12  2.024754  1.074965  2.996455  3.429671  2.268496  1.612146\n",
       "2022-12-13  2.024754  1.074965  2.996455  3.429671  2.268496  1.612146\n",
       "2022-12-14  2.024754  1.074965  2.996455  3.429671  2.268496  1.612146\n",
       "2022-12-15  2.024754  1.074965  2.996455  3.429671  2.268496  1.612146\n",
       "2022-12-16  2.024754  1.074965  2.996455  3.429671  2.268496  1.612146\n",
       "2022-12-19  2.024754  1.074965  2.996455  3.429671  2.268496  1.612146\n",
       "2022-12-20  2.024754  1.074965  2.996455  3.429671  2.268496  1.612146\n",
       "2022-12-21  2.024754  1.074965  2.996455  3.429671  2.268496  1.612146\n",
       "2022-12-22  2.024754  1.074965  2.996455  3.429671  2.268496  1.612146\n",
       "2022-12-23  2.024754  1.074965  2.996455  3.429671  2.268496  1.612146\n",
       "2022-12-27  2.024754  1.074965  2.996455  3.429671  2.268496  1.612146\n",
       "2022-12-28  2.024754  1.074965  2.996455  3.429671  2.268496  1.612146\n",
       "2022-12-29  2.024754  1.074965  2.996455  3.429671  2.268496  1.612146"
      ]
     },
     "execution_count": 184,
     "metadata": {},
     "output_type": "execute_result"
    }
   ],
   "source": [
    "final_rets=allocation_pct*cum_rets*initial_value\n",
    "final_rets"
   ]
  },
  {
   "cell_type": "code",
   "execution_count": 185,
   "id": "bd027510",
   "metadata": {},
   "outputs": [],
   "source": [
    "portfolio_val= final_rets.sum(axis=1)"
   ]
  },
  {
   "cell_type": "code",
   "execution_count": 186,
   "id": "a3fd3ce7",
   "metadata": {},
   "outputs": [
    {
     "data": {
      "text/plain": [
       "Date\n",
       "2022-10-24    13.406488\n",
       "2022-10-25    13.406488\n",
       "2022-10-26    13.406488\n",
       "2022-10-27    13.406488\n",
       "2022-10-28    13.406488\n",
       "2022-10-31    13.406488\n",
       "2022-11-01    13.406488\n",
       "2022-11-02    13.406488\n",
       "2022-11-03    13.406488\n",
       "2022-11-04    13.406488\n",
       "2022-11-07    13.406488\n",
       "2022-11-08    13.406488\n",
       "2022-11-09    13.406488\n",
       "2022-11-10    13.406488\n",
       "2022-11-11    13.406488\n",
       "2022-11-14    13.406488\n",
       "2022-11-15    13.406488\n",
       "2022-11-16    13.406488\n",
       "2022-11-17    13.406488\n",
       "2022-11-18    13.406488\n",
       "2022-11-30    13.406488\n",
       "2022-12-01    13.406488\n",
       "2022-12-02    13.406488\n",
       "2022-12-05    13.406488\n",
       "2022-12-06    13.406488\n",
       "2022-12-07    13.406488\n",
       "2022-12-08    13.406488\n",
       "2022-12-09    13.406488\n",
       "2022-12-12    13.406488\n",
       "2022-12-13    13.406488\n",
       "2022-12-14    13.406488\n",
       "2022-12-15    13.406488\n",
       "2022-12-16    13.406488\n",
       "2022-12-19    13.406488\n",
       "2022-12-20    13.406488\n",
       "2022-12-21    13.406488\n",
       "2022-12-22    13.406488\n",
       "2022-12-23    13.406488\n",
       "2022-12-27    13.406488\n",
       "2022-12-28    13.406488\n",
       "2022-12-29    13.406488\n",
       "dtype: float64"
      ]
     },
     "execution_count": 186,
     "metadata": {},
     "output_type": "execute_result"
    }
   ],
   "source": [
    "portfolio_val"
   ]
  },
  {
   "cell_type": "code",
   "execution_count": 187,
   "id": "07cb5cf7",
   "metadata": {},
   "outputs": [],
   "source": [
    "portfolio_val.to_excel(\"period10.xlsx\")"
   ]
  },
  {
   "cell_type": "code",
   "execution_count": 188,
   "id": "d7e5c807",
   "metadata": {},
   "outputs": [
    {
     "data": {
      "text/plain": [
       "[<matplotlib.lines.Line2D at 0x7fd36e709fd0>]"
      ]
     },
     "execution_count": 188,
     "metadata": {},
     "output_type": "execute_result"
    },
    {
     "data": {
      "image/png": "[encoded data removed]",
      "text/plain": [
       "<Figure size 432x288 with 1 Axes>"
      ]
     },
     "metadata": {
      "needs_background": "light"
     },
     "output_type": "display_data"
    }
   ],
   "source": [
    "plt.plot(portfolio_val)"
   ]
  },
  {
   "cell_type": "code",
   "execution_count": null,
   "id": "38ca55da",
   "metadata": {},
   "outputs": [],
   "source": []
  },
  {
   "cell_type": "code",
   "execution_count": null,
   "id": "fdb52ca2",
   "metadata": {},
   "outputs": [],
   "source": []
  }
 ],
 "metadata": {
  "kernelspec": {
   "display_name": "Python 3 (ipykernel)",
   "language": "python",
   "name": "python3"
  },
  "language_info": {
   "codemirror_mode": {
    "name": "ipython",
    "version": 3
   },
   "file_extension": ".py",
   "mimetype": "text/x-python",
   "name": "python",
   "nbconvert_exporter": "python",
   "pygments_lexer": "ipython3",
   "version": "3.9.12"
  }
 },
 "nbformat": 4,
 "nbformat_minor": 5
}
